{
 "cells": [
  {
   "cell_type": "code",
   "execution_count": 1,
   "id": "e130b471-011c-491f-8341-ee041c06bd06",
   "metadata": {},
   "outputs": [],
   "source": [
    "import pandas as pd\n",
    "\n",
    "previous_2000_path = \"../labeled\"\n",
    "additional_3000_path = \"./labeled\"\n",
    "target_path = \"./Complete Dataset\""
   ]
  },
  {
   "cell_type": "markdown",
   "id": "4e724f6b-137d-4d8f-9b04-fd620ce97dc6",
   "metadata": {},
   "source": [
    "1. Anthropic Claude Haiku"
   ]
  },
  {
   "cell_type": "markdown",
   "id": "508ae0fd-c589-4611-ab12-ea8009007884",
   "metadata": {},
   "source": [
    "**AAE with sentiment**"
   ]
  },
  {
   "cell_type": "code",
   "execution_count": 3,
   "id": "bfe72ac5-8b3b-4e57-be89-c9f1dafdffeb",
   "metadata": {},
   "outputs": [],
   "source": [
    "prev_aae = pd.read_csv(f\"{previous_2000_path}/anthropic_Haiku-aae-labels.csv\")\n",
    "additional_aae = pd.read_csv(f\"{additional_3000_path}/Claude-Haiku-AAE-Labels.csv\")"
   ]
  },
  {
   "cell_type": "code",
   "execution_count": 4,
   "id": "428cd113-b626-4335-9465-f0262057334c",
   "metadata": {},
   "outputs": [
    {
     "data": {
      "text/plain": [
       "Index(['sentences', 'sentiment'], dtype='object')"
      ]
     },
     "execution_count": 4,
     "metadata": {},
     "output_type": "execute_result"
    }
   ],
   "source": [
    "prev_aae.columns"
   ]
  },
  {
   "cell_type": "code",
   "execution_count": 5,
   "id": "1d997c0b-9557-47b2-a35e-6c95ebbe8774",
   "metadata": {},
   "outputs": [
    {
     "data": {
      "text/plain": [
       "Index(['Unnamed: 0', 'text', 'sentiment'], dtype='object')"
      ]
     },
     "execution_count": 5,
     "metadata": {},
     "output_type": "execute_result"
    }
   ],
   "source": [
    "additional_aae.columns"
   ]
  },
  {
   "cell_type": "code",
   "execution_count": 7,
   "id": "4efcd78c-770d-4fdc-bcee-3a7c161571f7",
   "metadata": {},
   "outputs": [
    {
     "data": {
      "text/plain": [
       "Index(['text', 'sentiment'], dtype='object')"
      ]
     },
     "execution_count": 7,
     "metadata": {},
     "output_type": "execute_result"
    }
   ],
   "source": [
    "additional_aae.drop('Unnamed: 0', axis=1, inplace=True);\n",
    "additional_aae.columns"
   ]
  },
  {
   "cell_type": "code",
   "execution_count": 8,
   "id": "0354edbf-d505-4c50-8971-8e226d37d5bc",
   "metadata": {},
   "outputs": [],
   "source": [
    "prev_aae.rename(columns={'sentences': 'text'}, inplace=True)"
   ]
  },
  {
   "cell_type": "code",
   "execution_count": 9,
   "id": "fc6aaf11-6171-4644-88a5-5068160e9fe2",
   "metadata": {},
   "outputs": [
    {
     "data": {
      "text/html": [
       "<div>\n",
       "<style scoped>\n",
       "    .dataframe tbody tr th:only-of-type {\n",
       "        vertical-align: middle;\n",
       "    }\n",
       "\n",
       "    .dataframe tbody tr th {\n",
       "        vertical-align: top;\n",
       "    }\n",
       "\n",
       "    .dataframe thead th {\n",
       "        text-align: right;\n",
       "    }\n",
       "</style>\n",
       "<table border=\"1\" class=\"dataframe\">\n",
       "  <thead>\n",
       "    <tr style=\"text-align: right;\">\n",
       "      <th></th>\n",
       "      <th>text</th>\n",
       "      <th>sentiment</th>\n",
       "    </tr>\n",
       "  </thead>\n",
       "  <tbody>\n",
       "    <tr>\n",
       "      <th>0</th>\n",
       "      <td>Bitch cant get shit from me but bubble gum nd ...</td>\n",
       "      <td>Negative</td>\n",
       "    </tr>\n",
       "    <tr>\n",
       "      <th>1</th>\n",
       "      <td>@islandboi_B yes that's what's up. Nothin like...</td>\n",
       "      <td>Positive</td>\n",
       "    </tr>\n",
       "    <tr>\n",
       "      <th>2</th>\n",
       "      <td>Mixed huh !? Those black ass knees and elbows ...</td>\n",
       "      <td>Negative</td>\n",
       "    </tr>\n",
       "    <tr>\n",
       "      <th>3</th>\n",
       "      <td>The bul Mike James from @mavs ain't shit n he ...</td>\n",
       "      <td>Negative</td>\n",
       "    </tr>\n",
       "    <tr>\n",
       "      <th>4</th>\n",
       "      <td>It took for a whole stranger to tell me he PRO...</td>\n",
       "      <td>Positive</td>\n",
       "    </tr>\n",
       "  </tbody>\n",
       "</table>\n",
       "</div>"
      ],
      "text/plain": [
       "                                                text sentiment\n",
       "0  Bitch cant get shit from me but bubble gum nd ...  Negative\n",
       "1  @islandboi_B yes that's what's up. Nothin like...  Positive\n",
       "2  Mixed huh !? Those black ass knees and elbows ...  Negative\n",
       "3  The bul Mike James from @mavs ain't shit n he ...  Negative\n",
       "4  It took for a whole stranger to tell me he PRO...  Positive"
      ]
     },
     "execution_count": 9,
     "metadata": {},
     "output_type": "execute_result"
    }
   ],
   "source": [
    "combined_aae = pd.concat([prev_aae, additional_aae], axis=0)\n",
    "combined_aae.head()"
   ]
  },
  {
   "cell_type": "code",
   "execution_count": 10,
   "id": "3bfa24f3-a6f6-47d5-93ba-f52b1655c792",
   "metadata": {},
   "outputs": [
    {
     "data": {
      "text/plain": [
       "(5000, 2)"
      ]
     },
     "execution_count": 10,
     "metadata": {},
     "output_type": "execute_result"
    }
   ],
   "source": [
    "combined_aae.shape"
   ]
  },
  {
   "cell_type": "code",
   "execution_count": 13,
   "id": "4d515237-9844-49f7-8bf9-fe34f59c1b93",
   "metadata": {},
   "outputs": [],
   "source": [
    "combined_aae.to_csv(f\"{target_path}/Claude-Haiku-AAE-sentiment.csv\", index=False)"
   ]
  },
  {
   "cell_type": "markdown",
   "id": "a6a93752-1d68-4c80-87e5-4158cc95b3b0",
   "metadata": {},
   "source": [
    "**SAE**"
   ]
  },
  {
   "cell_type": "code",
   "execution_count": 14,
   "id": "ddcf239e-9322-4f0b-b014-5c0f89d7125d",
   "metadata": {},
   "outputs": [],
   "source": [
    "prev_sae = pd.read_csv(f\"{previous_2000_path}/anthropic_Haiku-sae.csv\")\n",
    "additional_sae = pd.read_csv(f\"{additional_3000_path}/Claude-Haiku-SAE.csv\")"
   ]
  },
  {
   "cell_type": "code",
   "execution_count": 23,
   "id": "bcc7d59c-53e8-452b-b8c9-ed3471be3d87",
   "metadata": {},
   "outputs": [
    {
     "data": {
      "text/plain": [
       "(Index(['african_american_english', 'standard_american_english'], dtype='object'),\n",
       " Index(['african_american_english', 'standard_american_english'], dtype='object'))"
      ]
     },
     "execution_count": 23,
     "metadata": {},
     "output_type": "execute_result"
    }
   ],
   "source": [
    "prev_sae.columns, additional_sae.columns "
   ]
  },
  {
   "cell_type": "code",
   "execution_count": 17,
   "id": "1557b2c3-d595-4a85-8b70-0ec8fc2c98c8",
   "metadata": {},
   "outputs": [],
   "source": [
    "prev_sae.drop('Unnamed: 0', axis=1, inplace=True)\n",
    "prev_sae.rename(columns={'aae' : 'african_american_english'}, inplace=True)"
   ]
  },
  {
   "cell_type": "code",
   "execution_count": 18,
   "id": "e82ea050-1e2c-4009-b109-2b5a081172e7",
   "metadata": {},
   "outputs": [
    {
     "data": {
      "text/plain": [
       "(Index(['african_american_english', 'standard_american_english'], dtype='object'),\n",
       " Index(['african_american_english', 'standard_american_english'], dtype='object'))"
      ]
     },
     "execution_count": 18,
     "metadata": {},
     "output_type": "execute_result"
    }
   ],
   "source": [
    "prev_sae.columns, additional_sae.columns"
   ]
  },
  {
   "cell_type": "code",
   "execution_count": 19,
   "id": "bc229203-8b81-4f7d-9eae-1313677c6423",
   "metadata": {},
   "outputs": [
    {
     "data": {
      "text/html": [
       "<div>\n",
       "<style scoped>\n",
       "    .dataframe tbody tr th:only-of-type {\n",
       "        vertical-align: middle;\n",
       "    }\n",
       "\n",
       "    .dataframe tbody tr th {\n",
       "        vertical-align: top;\n",
       "    }\n",
       "\n",
       "    .dataframe thead th {\n",
       "        text-align: right;\n",
       "    }\n",
       "</style>\n",
       "<table border=\"1\" class=\"dataframe\">\n",
       "  <thead>\n",
       "    <tr style=\"text-align: right;\">\n",
       "      <th></th>\n",
       "      <th>african_american_english</th>\n",
       "      <th>standard_american_english</th>\n",
       "    </tr>\n",
       "  </thead>\n",
       "  <tbody>\n",
       "    <tr>\n",
       "      <th>0</th>\n",
       "      <td>Bitch cant get shit from me but bubble gum nd ...</td>\n",
       "      <td>I'm not giving that woman anything but bubble ...</td>\n",
       "    </tr>\n",
       "    <tr>\n",
       "      <th>1</th>\n",
       "      <td>@islandboi_B yes that's what's up. Nothin like...</td>\n",
       "      <td>Yes, that's what's up. There's nothing like ge...</td>\n",
       "    </tr>\n",
       "    <tr>\n",
       "      <th>2</th>\n",
       "      <td>Mixed huh !? Those black ass knees and elbows ...</td>\n",
       "      <td>Mixed, huh? Those dark elbows and knees will g...</td>\n",
       "    </tr>\n",
       "    <tr>\n",
       "      <th>3</th>\n",
       "      <td>The bul Mike James from @mavs ain't shit n he ...</td>\n",
       "      <td>The player Mike James from the Dallas Maverick...</td>\n",
       "    </tr>\n",
       "    <tr>\n",
       "      <th>4</th>\n",
       "      <td>It took for a whole stranger to tell me he PRO...</td>\n",
       "      <td>It took a complete stranger to tell me they're...</td>\n",
       "    </tr>\n",
       "  </tbody>\n",
       "</table>\n",
       "</div>"
      ],
      "text/plain": [
       "                            african_american_english  \\\n",
       "0  Bitch cant get shit from me but bubble gum nd ...   \n",
       "1  @islandboi_B yes that's what's up. Nothin like...   \n",
       "2  Mixed huh !? Those black ass knees and elbows ...   \n",
       "3  The bul Mike James from @mavs ain't shit n he ...   \n",
       "4  It took for a whole stranger to tell me he PRO...   \n",
       "\n",
       "                           standard_american_english  \n",
       "0  I'm not giving that woman anything but bubble ...  \n",
       "1  Yes, that's what's up. There's nothing like ge...  \n",
       "2  Mixed, huh? Those dark elbows and knees will g...  \n",
       "3  The player Mike James from the Dallas Maverick...  \n",
       "4  It took a complete stranger to tell me they're...  "
      ]
     },
     "execution_count": 19,
     "metadata": {},
     "output_type": "execute_result"
    }
   ],
   "source": [
    "combined_sae = pd.concat([prev_sae, additional_sae], axis=0)\n",
    "combined_sae.head()"
   ]
  },
  {
   "cell_type": "code",
   "execution_count": 20,
   "id": "e87aeeee-fd8d-421a-a233-222768e6a678",
   "metadata": {},
   "outputs": [
    {
     "data": {
      "text/plain": [
       "(5000, 2)"
      ]
     },
     "execution_count": 20,
     "metadata": {},
     "output_type": "execute_result"
    }
   ],
   "source": [
    "combined_sae.shape"
   ]
  },
  {
   "cell_type": "code",
   "execution_count": 21,
   "id": "e861e44d-7d83-4221-b5a8-5e968e6007f9",
   "metadata": {},
   "outputs": [],
   "source": [
    "combined_sae.to_csv(f\"{target_path}/Claude-Haiku-SAE.csv\", index=False)"
   ]
  },
  {
   "cell_type": "markdown",
   "id": "5b111ce5-cc42-434a-b44e-569ce36a0e81",
   "metadata": {},
   "source": [
    "**SAE with sentiment**"
   ]
  },
  {
   "cell_type": "code",
   "execution_count": 24,
   "id": "c2d26b43-a222-46f1-94af-9d80b740a49f",
   "metadata": {},
   "outputs": [],
   "source": [
    "prev_sae_sentiment = pd.read_csv(f\"{previous_2000_path}/anthropic_Haiku-sae-labels.csv\")\n",
    "additional_sae_sentiment = pd.read_csv(f\"{additional_3000_path}/Claude-Haiku-sae-labels.csv\")"
   ]
  },
  {
   "cell_type": "code",
   "execution_count": 25,
   "id": "983d6d78-0e08-4eb1-9a2d-42772fc659bc",
   "metadata": {},
   "outputs": [
    {
     "data": {
      "text/plain": [
       "(Index(['standard_american_english', 'sae_labels'], dtype='object'),\n",
       " Index(['Unnamed: 0', 'standard_american_english', 'sae_labels'], dtype='object'))"
      ]
     },
     "execution_count": 25,
     "metadata": {},
     "output_type": "execute_result"
    }
   ],
   "source": [
    "prev_sae_sentiment.columns, additional_sae_sentiment.columns "
   ]
  },
  {
   "cell_type": "code",
   "execution_count": 26,
   "id": "4414e0ee-9399-483a-81c6-37d80d234b93",
   "metadata": {},
   "outputs": [],
   "source": [
    "additional_sae_sentiment.drop('Unnamed: 0', axis=1, inplace=True)"
   ]
  },
  {
   "cell_type": "code",
   "execution_count": 27,
   "id": "abc3682d-0340-4965-93f4-3f8300cec446",
   "metadata": {},
   "outputs": [
    {
     "data": {
      "text/plain": [
       "(Index(['standard_american_english', 'sae_labels'], dtype='object'),\n",
       " Index(['standard_american_english', 'sae_labels'], dtype='object'))"
      ]
     },
     "execution_count": 27,
     "metadata": {},
     "output_type": "execute_result"
    }
   ],
   "source": [
    "prev_sae_sentiment.columns, additional_sae_sentiment.columns "
   ]
  },
  {
   "cell_type": "code",
   "execution_count": 40,
   "id": "3386b2cf-82f1-42b4-b726-bdc76c55f44a",
   "metadata": {},
   "outputs": [
    {
     "data": {
      "text/html": [
       "<div>\n",
       "<style scoped>\n",
       "    .dataframe tbody tr th:only-of-type {\n",
       "        vertical-align: middle;\n",
       "    }\n",
       "\n",
       "    .dataframe tbody tr th {\n",
       "        vertical-align: top;\n",
       "    }\n",
       "\n",
       "    .dataframe thead th {\n",
       "        text-align: right;\n",
       "    }\n",
       "</style>\n",
       "<table border=\"1\" class=\"dataframe\">\n",
       "  <thead>\n",
       "    <tr style=\"text-align: right;\">\n",
       "      <th></th>\n",
       "      <th>standard_american_english</th>\n",
       "      <th>sae_labels</th>\n",
       "    </tr>\n",
       "  </thead>\n",
       "  <tbody>\n",
       "    <tr>\n",
       "      <th>0</th>\n",
       "      <td>I'm not giving that woman anything but bubble ...</td>\n",
       "      <td>Negative</td>\n",
       "    </tr>\n",
       "    <tr>\n",
       "      <th>1</th>\n",
       "      <td>Yes, that's what's up. There's nothing like ge...</td>\n",
       "      <td>Positive</td>\n",
       "    </tr>\n",
       "    <tr>\n",
       "      <th>2</th>\n",
       "      <td>Mixed, huh? Those dark elbows and knees will g...</td>\n",
       "      <td>Negative</td>\n",
       "    </tr>\n",
       "    <tr>\n",
       "      <th>3</th>\n",
       "      <td>The player Mike James from the Dallas Maverick...</td>\n",
       "      <td>Negative</td>\n",
       "    </tr>\n",
       "    <tr>\n",
       "      <th>4</th>\n",
       "      <td>It took a complete stranger to tell me they're...</td>\n",
       "      <td>Positive</td>\n",
       "    </tr>\n",
       "  </tbody>\n",
       "</table>\n",
       "</div>"
      ],
      "text/plain": [
       "                           standard_american_english sae_labels\n",
       "0  I'm not giving that woman anything but bubble ...   Negative\n",
       "1  Yes, that's what's up. There's nothing like ge...   Positive\n",
       "2  Mixed, huh? Those dark elbows and knees will g...   Negative\n",
       "3  The player Mike James from the Dallas Maverick...   Negative\n",
       "4  It took a complete stranger to tell me they're...   Positive"
      ]
     },
     "execution_count": 40,
     "metadata": {},
     "output_type": "execute_result"
    }
   ],
   "source": [
    "combined_sae = pd.concat([prev_sae_sentiment, additional_sae_sentiment], axis=0)\n",
    "combined_sae.head()"
   ]
  },
  {
   "cell_type": "code",
   "execution_count": 42,
   "id": "9cb0aa96-3009-4eca-8347-01bfa9ebe0e0",
   "metadata": {},
   "outputs": [
    {
     "data": {
      "text/plain": [
       "(5000, 2)"
      ]
     },
     "execution_count": 42,
     "metadata": {},
     "output_type": "execute_result"
    }
   ],
   "source": [
    "combined_sae.shape"
   ]
  },
  {
   "cell_type": "code",
   "execution_count": 43,
   "id": "4d9ecdfc-5079-4e98-a01d-c74e9cd0db49",
   "metadata": {},
   "outputs": [],
   "source": [
    "combined_sae.to_csv(f\"{target_path}/Claude-Haiku-SAE-sentiment.csv\", index=False)"
   ]
  },
  {
   "cell_type": "markdown",
   "id": "b28eb348-ecf3-4426-b9fb-1a22db9e399e",
   "metadata": {},
   "source": [
    "**AAE_from_SAE**"
   ]
  },
  {
   "cell_type": "code",
   "execution_count": 44,
   "id": "d9442101-90b9-44f2-a72a-05d6e94031f7",
   "metadata": {},
   "outputs": [],
   "source": [
    "prev_aae_from_sae = pd.read_csv(f\"{previous_2000_path}/anthropic_Haiku-AAE_from_SAE_updated.csv\")\n",
    "additional_aae_from_sae = pd.read_csv(f\"{additional_3000_path}/Claude-Haiku-AAE_from_SAE.csv\")"
   ]
  },
  {
   "cell_type": "code",
   "execution_count": 45,
   "id": "e6e26ded-215d-462b-b4b2-dfa9aa45f5f1",
   "metadata": {},
   "outputs": [
    {
     "data": {
      "text/plain": [
       "(Index(['index', 'standard_american_english', 'aae_from_sae'], dtype='object'),\n",
       " Index(['aae_from_sae', 'standard_american_english'], dtype='object'))"
      ]
     },
     "execution_count": 45,
     "metadata": {},
     "output_type": "execute_result"
    }
   ],
   "source": [
    "prev_aae_from_sae.columns, additional_aae_from_sae.columns "
   ]
  },
  {
   "cell_type": "code",
   "execution_count": 46,
   "id": "55800973-4cdd-4b45-af8e-254eb39f301b",
   "metadata": {},
   "outputs": [],
   "source": [
    "prev_aae_from_sae.drop('index', axis=1, inplace=True)"
   ]
  },
  {
   "cell_type": "code",
   "execution_count": 47,
   "id": "74f76bb5-e8b4-443c-9437-e405728864d1",
   "metadata": {},
   "outputs": [
    {
     "data": {
      "text/plain": [
       "(Index(['standard_american_english', 'aae_from_sae'], dtype='object'),\n",
       " Index(['aae_from_sae', 'standard_american_english'], dtype='object'))"
      ]
     },
     "execution_count": 47,
     "metadata": {},
     "output_type": "execute_result"
    }
   ],
   "source": [
    "prev_aae_from_sae.columns, additional_aae_from_sae.columns "
   ]
  },
  {
   "cell_type": "code",
   "execution_count": 48,
   "id": "94f0c2c0-3a86-40ce-9b9d-54f5680e658b",
   "metadata": {},
   "outputs": [
    {
     "data": {
      "text/html": [
       "<div>\n",
       "<style scoped>\n",
       "    .dataframe tbody tr th:only-of-type {\n",
       "        vertical-align: middle;\n",
       "    }\n",
       "\n",
       "    .dataframe tbody tr th {\n",
       "        vertical-align: top;\n",
       "    }\n",
       "\n",
       "    .dataframe thead th {\n",
       "        text-align: right;\n",
       "    }\n",
       "</style>\n",
       "<table border=\"1\" class=\"dataframe\">\n",
       "  <thead>\n",
       "    <tr style=\"text-align: right;\">\n",
       "      <th></th>\n",
       "      <th>standard_american_english</th>\n",
       "      <th>aae_from_sae</th>\n",
       "    </tr>\n",
       "  </thead>\n",
       "  <tbody>\n",
       "    <tr>\n",
       "      <th>0</th>\n",
       "      <td>I'm not giving that woman anything but bubble ...</td>\n",
       "      <td>Nah, I ain't givin' that woman nothin' but som...</td>\n",
       "    </tr>\n",
       "    <tr>\n",
       "      <th>1</th>\n",
       "      <td>Yes, that's what's up. There's nothing like ge...</td>\n",
       "      <td>Yeah, that's what's up. Ain't nothin' like get...</td>\n",
       "    </tr>\n",
       "    <tr>\n",
       "      <th>2</th>\n",
       "      <td>Mixed, huh? Those dark elbows and knees will g...</td>\n",
       "      <td>Mixed, huh? Them dark elbows and knees gon' gi...</td>\n",
       "    </tr>\n",
       "    <tr>\n",
       "      <th>3</th>\n",
       "      <td>The player Mike James from the Dallas Maverick...</td>\n",
       "      <td>That player Mike James from the Dallas Maveric...</td>\n",
       "    </tr>\n",
       "    <tr>\n",
       "      <th>4</th>\n",
       "      <td>It took a complete stranger to tell me they're...</td>\n",
       "      <td>It took a complete stranger to tell me they pr...</td>\n",
       "    </tr>\n",
       "  </tbody>\n",
       "</table>\n",
       "</div>"
      ],
      "text/plain": [
       "                           standard_american_english  \\\n",
       "0  I'm not giving that woman anything but bubble ...   \n",
       "1  Yes, that's what's up. There's nothing like ge...   \n",
       "2  Mixed, huh? Those dark elbows and knees will g...   \n",
       "3  The player Mike James from the Dallas Maverick...   \n",
       "4  It took a complete stranger to tell me they're...   \n",
       "\n",
       "                                        aae_from_sae  \n",
       "0  Nah, I ain't givin' that woman nothin' but som...  \n",
       "1  Yeah, that's what's up. Ain't nothin' like get...  \n",
       "2  Mixed, huh? Them dark elbows and knees gon' gi...  \n",
       "3  That player Mike James from the Dallas Maveric...  \n",
       "4  It took a complete stranger to tell me they pr...  "
      ]
     },
     "execution_count": 48,
     "metadata": {},
     "output_type": "execute_result"
    }
   ],
   "source": [
    "combined_aae_from_sae = pd.concat([prev_aae_from_sae, additional_aae_from_sae], axis=0)\n",
    "combined_aae_from_sae.head()"
   ]
  },
  {
   "cell_type": "code",
   "execution_count": 49,
   "id": "f13c5ce1-51aa-4177-8613-0f0ebeadb87f",
   "metadata": {},
   "outputs": [
    {
     "data": {
      "text/plain": [
       "(5000, 2)"
      ]
     },
     "execution_count": 49,
     "metadata": {},
     "output_type": "execute_result"
    }
   ],
   "source": [
    "combined_aae_from_sae.shape"
   ]
  },
  {
   "cell_type": "code",
   "execution_count": 50,
   "id": "91875777-ed34-48f8-9f3c-65db6061c238",
   "metadata": {},
   "outputs": [],
   "source": [
    "combined_aae_from_sae.to_csv(f\"{target_path}/Claude-Haiku-AAE_from_SAE.csv\", index=False)"
   ]
  },
  {
   "cell_type": "markdown",
   "id": "1786a41a-8559-4b29-bb56-be3cd6289623",
   "metadata": {},
   "source": [
    "**AAE_from_SAE Sentiment**"
   ]
  },
  {
   "cell_type": "code",
   "execution_count": 52,
   "id": "c6a91d75-e739-4589-a52d-f9c0e46dbef8",
   "metadata": {},
   "outputs": [],
   "source": [
    "prev_aae_from_sae_sentiment = pd.read_csv(f\"{previous_2000_path}/anthropic_Haiku-AAE_from_SAE_updated_sentiment.csv\")\n",
    "additional_aae_from_sae_sentiment = pd.read_csv(f\"{additional_3000_path}/Claude-Haiku-AAE_from_SAE_labels-final.csv\")"
   ]
  },
  {
   "cell_type": "code",
   "execution_count": 55,
   "id": "4e21aa4d-d957-402a-9a80-609b03c0b698",
   "metadata": {},
   "outputs": [
    {
     "data": {
      "text/plain": [
       "(Index(['Unnamed: 0', 'index', 'aae_from_sae', 'sentiment'], dtype='object'),\n",
       " Index(['aae_from_sae', 'sentiment'], dtype='object'))"
      ]
     },
     "execution_count": 55,
     "metadata": {},
     "output_type": "execute_result"
    }
   ],
   "source": [
    "prev_aae_from_sae_sentiment.columns, additional_aae_from_sae_sentiment.columns "
   ]
  },
  {
   "cell_type": "code",
   "execution_count": 56,
   "id": "148b4c5e-c50b-43f1-9687-7c15127d9463",
   "metadata": {},
   "outputs": [],
   "source": [
    "prev_aae_from_sae_sentiment.drop(['Unnamed: 0', 'index'], axis=1, inplace=True)"
   ]
  },
  {
   "cell_type": "code",
   "execution_count": 57,
   "id": "893f5a46-b860-43c1-abf3-435ee97ef724",
   "metadata": {},
   "outputs": [
    {
     "data": {
      "text/plain": [
       "(Index(['aae_from_sae', 'sentiment'], dtype='object'),\n",
       " Index(['aae_from_sae', 'sentiment'], dtype='object'))"
      ]
     },
     "execution_count": 57,
     "metadata": {},
     "output_type": "execute_result"
    }
   ],
   "source": [
    "prev_aae_from_sae_sentiment.columns, additional_aae_from_sae_sentiment.columns "
   ]
  },
  {
   "cell_type": "code",
   "execution_count": 58,
   "id": "2133d7ea-fdf2-422c-82ea-c2a0f3e86c74",
   "metadata": {},
   "outputs": [
    {
     "data": {
      "text/html": [
       "<div>\n",
       "<style scoped>\n",
       "    .dataframe tbody tr th:only-of-type {\n",
       "        vertical-align: middle;\n",
       "    }\n",
       "\n",
       "    .dataframe tbody tr th {\n",
       "        vertical-align: top;\n",
       "    }\n",
       "\n",
       "    .dataframe thead th {\n",
       "        text-align: right;\n",
       "    }\n",
       "</style>\n",
       "<table border=\"1\" class=\"dataframe\">\n",
       "  <thead>\n",
       "    <tr style=\"text-align: right;\">\n",
       "      <th></th>\n",
       "      <th>aae_from_sae</th>\n",
       "      <th>sentiment</th>\n",
       "    </tr>\n",
       "  </thead>\n",
       "  <tbody>\n",
       "    <tr>\n",
       "      <th>0</th>\n",
       "      <td>Nah, I ain't givin' that woman nothin' but som...</td>\n",
       "      <td>Negative</td>\n",
       "    </tr>\n",
       "    <tr>\n",
       "      <th>1</th>\n",
       "      <td>Yeah, that's what's up. Ain't nothin' like get...</td>\n",
       "      <td>Positive</td>\n",
       "    </tr>\n",
       "    <tr>\n",
       "      <th>2</th>\n",
       "      <td>Mixed, huh? Them dark elbows and knees gon' gi...</td>\n",
       "      <td>Negative</td>\n",
       "    </tr>\n",
       "    <tr>\n",
       "      <th>3</th>\n",
       "      <td>That player Mike James from the Dallas Maveric...</td>\n",
       "      <td>Negative</td>\n",
       "    </tr>\n",
       "    <tr>\n",
       "      <th>4</th>\n",
       "      <td>It took a complete stranger to tell me they pr...</td>\n",
       "      <td>Positive</td>\n",
       "    </tr>\n",
       "  </tbody>\n",
       "</table>\n",
       "</div>"
      ],
      "text/plain": [
       "                                        aae_from_sae sentiment\n",
       "0  Nah, I ain't givin' that woman nothin' but som...  Negative\n",
       "1  Yeah, that's what's up. Ain't nothin' like get...  Positive\n",
       "2  Mixed, huh? Them dark elbows and knees gon' gi...  Negative\n",
       "3  That player Mike James from the Dallas Maveric...  Negative\n",
       "4  It took a complete stranger to tell me they pr...  Positive"
      ]
     },
     "execution_count": 58,
     "metadata": {},
     "output_type": "execute_result"
    }
   ],
   "source": [
    "combined_aae_from_sae_sentiment = pd.concat([prev_aae_from_sae_sentiment, additional_aae_from_sae_sentiment], axis=0)\n",
    "combined_aae_from_sae_sentiment .head()"
   ]
  },
  {
   "cell_type": "code",
   "execution_count": 59,
   "id": "929552f9-5792-47e1-8b10-0aa2ec9d91c6",
   "metadata": {},
   "outputs": [
    {
     "data": {
      "text/plain": [
       "(5000, 2)"
      ]
     },
     "execution_count": 59,
     "metadata": {},
     "output_type": "execute_result"
    }
   ],
   "source": [
    "combined_aae_from_sae_sentiment.shape"
   ]
  },
  {
   "cell_type": "code",
   "execution_count": 60,
   "id": "4bbed5cf-c7ee-441e-bde4-5201a85b385c",
   "metadata": {},
   "outputs": [],
   "source": [
    "combined_aae_from_sae_sentiment.to_csv(f\"{target_path}/Claude-Haiku-AAE_from_SAE-sentiment.csv\", index=False)"
   ]
  },
  {
   "cell_type": "markdown",
   "id": "647cfc4f-b6ed-4b97-b3bb-ea6e0a09239a",
   "metadata": {},
   "source": [
    "# GPT \n",
    "\n",
    "**AAE with sentiment**"
   ]
  },
  {
   "cell_type": "code",
   "execution_count": 52,
   "id": "8baa014c-47b9-4b46-959b-5cd42dc17d5e",
   "metadata": {},
   "outputs": [],
   "source": [
    "prev_aae = pd.read_csv(f\"../GPT-4o-updated-2000/GPT-4o-mini-aae-labels.csv\")\n",
    "additional_aae = pd.read_csv(f\"{additional_3000_path}/GPT-4o-mini-AAE-Labels.csv\")"
   ]
  },
  {
   "cell_type": "code",
   "execution_count": 53,
   "id": "7fc716c5-2b99-48ca-bb47-11d9863cf67a",
   "metadata": {},
   "outputs": [
    {
     "data": {
      "text/plain": [
       "(Index(['index', 'text', 'sentiment'], dtype='object'),\n",
       " Index(['text', 'sentiment'], dtype='object'))"
      ]
     },
     "execution_count": 53,
     "metadata": {},
     "output_type": "execute_result"
    }
   ],
   "source": [
    "prev_aae.columns, additional_aae.columns "
   ]
  },
  {
   "cell_type": "code",
   "execution_count": 54,
   "id": "ab0ab234-70c4-4e49-b6bd-f1145e378742",
   "metadata": {},
   "outputs": [],
   "source": [
    "prev_aae.drop('index', axis=1, inplace=True)"
   ]
  },
  {
   "cell_type": "code",
   "execution_count": 55,
   "id": "a37d7768-e21e-4376-8354-0fd3e63049c4",
   "metadata": {},
   "outputs": [
    {
     "data": {
      "text/plain": [
       "(Index(['text', 'sentiment'], dtype='object'),\n",
       " Index(['text', 'sentiment'], dtype='object'))"
      ]
     },
     "execution_count": 55,
     "metadata": {},
     "output_type": "execute_result"
    }
   ],
   "source": [
    "prev_aae.columns, additional_aae.columns "
   ]
  },
  {
   "cell_type": "code",
   "execution_count": 56,
   "id": "091a1b82-4256-430e-a95f-0c726ffe4562",
   "metadata": {},
   "outputs": [
    {
     "data": {
      "text/html": [
       "<div>\n",
       "<style scoped>\n",
       "    .dataframe tbody tr th:only-of-type {\n",
       "        vertical-align: middle;\n",
       "    }\n",
       "\n",
       "    .dataframe tbody tr th {\n",
       "        vertical-align: top;\n",
       "    }\n",
       "\n",
       "    .dataframe thead th {\n",
       "        text-align: right;\n",
       "    }\n",
       "</style>\n",
       "<table border=\"1\" class=\"dataframe\">\n",
       "  <thead>\n",
       "    <tr style=\"text-align: right;\">\n",
       "      <th></th>\n",
       "      <th>text</th>\n",
       "      <th>sentiment</th>\n",
       "    </tr>\n",
       "  </thead>\n",
       "  <tbody>\n",
       "    <tr>\n",
       "      <th>0</th>\n",
       "      <td>Bitch cant get shit from me but bubble gum nd ...</td>\n",
       "      <td>Negative</td>\n",
       "    </tr>\n",
       "    <tr>\n",
       "      <th>1</th>\n",
       "      <td>@islandboi_B yes that's what's up. Nothin like...</td>\n",
       "      <td>Positive</td>\n",
       "    </tr>\n",
       "    <tr>\n",
       "      <th>2</th>\n",
       "      <td>Mixed huh !? Those black ass knees and elbows ...</td>\n",
       "      <td>Neutral</td>\n",
       "    </tr>\n",
       "    <tr>\n",
       "      <th>3</th>\n",
       "      <td>The bul Mike James from @mavs ain't shit n he ...</td>\n",
       "      <td>Negative</td>\n",
       "    </tr>\n",
       "    <tr>\n",
       "      <th>4</th>\n",
       "      <td>It took for a whole stranger to tell me he PRO...</td>\n",
       "      <td>Positive</td>\n",
       "    </tr>\n",
       "  </tbody>\n",
       "</table>\n",
       "</div>"
      ],
      "text/plain": [
       "                                                text sentiment\n",
       "0  Bitch cant get shit from me but bubble gum nd ...  Negative\n",
       "1  @islandboi_B yes that's what's up. Nothin like...  Positive\n",
       "2  Mixed huh !? Those black ass knees and elbows ...   Neutral\n",
       "3  The bul Mike James from @mavs ain't shit n he ...  Negative\n",
       "4  It took for a whole stranger to tell me he PRO...  Positive"
      ]
     },
     "execution_count": 56,
     "metadata": {},
     "output_type": "execute_result"
    }
   ],
   "source": [
    "combined_aae = pd.concat([prev_aae, additional_aae], axis=0)\n",
    "combined_aae.head()"
   ]
  },
  {
   "cell_type": "code",
   "execution_count": 57,
   "id": "c6d85d8c-b5fe-4f95-bf00-507a9a6df521",
   "metadata": {},
   "outputs": [
    {
     "data": {
      "text/plain": [
       "(5000, 2)"
      ]
     },
     "execution_count": 57,
     "metadata": {},
     "output_type": "execute_result"
    }
   ],
   "source": [
    "combined_aae.shape"
   ]
  },
  {
   "cell_type": "code",
   "execution_count": 58,
   "id": "a588d248-32a9-4a09-8994-e4f1aea10755",
   "metadata": {},
   "outputs": [],
   "source": [
    "combined_aae.to_csv(f\"{target_path}/GPT-4o-mini-AAE-sentiment.csv\", index=False)"
   ]
  },
  {
   "cell_type": "markdown",
   "id": "4a8d92a6-07dc-4c0c-af40-cf0c33f65586",
   "metadata": {},
   "source": [
    "**SAE**"
   ]
  },
  {
   "cell_type": "code",
   "execution_count": 59,
   "id": "be2c247f-d5e5-4b2f-9012-62a769c7df48",
   "metadata": {},
   "outputs": [],
   "source": [
    "prev_sae = pd.read_csv(\"../GPT-4o-updated-2000/GPT-4o-mini-SAE.csv\")\n",
    "additional_sae = pd.read_csv(f\"{additional_3000_path}/GPT-4o-mini-SAE.csv\")"
   ]
  },
  {
   "cell_type": "code",
   "execution_count": 60,
   "id": "fab7b3ba-6e51-4238-9a57-ebf8cda26332",
   "metadata": {},
   "outputs": [
    {
     "data": {
      "text/plain": [
       "(Index(['standard_american_english', 'african_american_english'], dtype='object'),\n",
       " Index(['standard_american_english', 'african_american_english'], dtype='object'))"
      ]
     },
     "execution_count": 60,
     "metadata": {},
     "output_type": "execute_result"
    }
   ],
   "source": [
    "prev_sae.columns, additional_sae.columns "
   ]
  },
  {
   "cell_type": "code",
   "execution_count": 61,
   "id": "3d1e99e4-9d40-4695-bd1b-2eef79140544",
   "metadata": {},
   "outputs": [
    {
     "data": {
      "text/html": [
       "<div>\n",
       "<style scoped>\n",
       "    .dataframe tbody tr th:only-of-type {\n",
       "        vertical-align: middle;\n",
       "    }\n",
       "\n",
       "    .dataframe tbody tr th {\n",
       "        vertical-align: top;\n",
       "    }\n",
       "\n",
       "    .dataframe thead th {\n",
       "        text-align: right;\n",
       "    }\n",
       "</style>\n",
       "<table border=\"1\" class=\"dataframe\">\n",
       "  <thead>\n",
       "    <tr style=\"text-align: right;\">\n",
       "      <th></th>\n",
       "      <th>standard_american_english</th>\n",
       "      <th>african_american_english</th>\n",
       "    </tr>\n",
       "  </thead>\n",
       "  <tbody>\n",
       "    <tr>\n",
       "      <th>0</th>\n",
       "      <td>I won't give her anything but bubble gum and a...</td>\n",
       "      <td>Bitch cant get shit from me but bubble gum nd ...</td>\n",
       "    </tr>\n",
       "    <tr>\n",
       "      <th>1</th>\n",
       "      <td>Yes, that's right. There's nothing like gettin...</td>\n",
       "      <td>@islandboi_B yes that's what's up. Nothin like...</td>\n",
       "    </tr>\n",
       "    <tr>\n",
       "      <th>2</th>\n",
       "      <td>Mixed, huh? Those dark knees and elbows will g...</td>\n",
       "      <td>Mixed huh !? Those black ass knees and elbows ...</td>\n",
       "    </tr>\n",
       "    <tr>\n",
       "      <th>3</th>\n",
       "      <td>The guy Mike James from the Mavericks isn't go...</td>\n",
       "      <td>The bul Mike James from @mavs ain't shit n he ...</td>\n",
       "    </tr>\n",
       "    <tr>\n",
       "      <th>4</th>\n",
       "      <td>It took a complete stranger to tell me he is p...</td>\n",
       "      <td>It took for a whole stranger to tell me he PRO...</td>\n",
       "    </tr>\n",
       "  </tbody>\n",
       "</table>\n",
       "</div>"
      ],
      "text/plain": [
       "                           standard_american_english  \\\n",
       "0  I won't give her anything but bubble gum and a...   \n",
       "1  Yes, that's right. There's nothing like gettin...   \n",
       "2  Mixed, huh? Those dark knees and elbows will g...   \n",
       "3  The guy Mike James from the Mavericks isn't go...   \n",
       "4  It took a complete stranger to tell me he is p...   \n",
       "\n",
       "                            african_american_english  \n",
       "0  Bitch cant get shit from me but bubble gum nd ...  \n",
       "1  @islandboi_B yes that's what's up. Nothin like...  \n",
       "2  Mixed huh !? Those black ass knees and elbows ...  \n",
       "3  The bul Mike James from @mavs ain't shit n he ...  \n",
       "4  It took for a whole stranger to tell me he PRO...  "
      ]
     },
     "execution_count": 61,
     "metadata": {},
     "output_type": "execute_result"
    }
   ],
   "source": [
    "combined_sae = pd.concat([prev_sae, additional_sae], axis=0)\n",
    "combined_sae.head()"
   ]
  },
  {
   "cell_type": "code",
   "execution_count": 62,
   "id": "6d4ef149-98f6-4c06-a46c-1091a9ac2d21",
   "metadata": {},
   "outputs": [],
   "source": [
    "combined_sae.to_csv(f\"{target_path}/GPT-4o-mini-SAE.csv\", index=False)"
   ]
  },
  {
   "cell_type": "markdown",
   "id": "fea2d53d-80f0-4a61-97af-f76f7c2f8056",
   "metadata": {},
   "source": [
    "**SAE with sentiment**"
   ]
  },
  {
   "cell_type": "code",
   "execution_count": 63,
   "id": "0b6fb342-a39e-482d-a277-9b1e4e38d738",
   "metadata": {},
   "outputs": [],
   "source": [
    "prev_sae_sentiment = pd.read_csv(f\"../GPT-4o-updated-2000/GPT-4o-mini-sae-labels.csv\")\n",
    "additional_sae_sentiment = pd.read_csv(f\"{additional_3000_path}/GPT-4o-mini-sae-labels.csv\")"
   ]
  },
  {
   "cell_type": "code",
   "execution_count": 64,
   "id": "3d2deab8-a317-4d93-a187-9b39b38059ce",
   "metadata": {},
   "outputs": [
    {
     "data": {
      "text/plain": [
       "(Index(['standard_american_english', 'sae_labels'], dtype='object'),\n",
       " Index(['standard_american_english', 'sae_labels'], dtype='object'))"
      ]
     },
     "execution_count": 64,
     "metadata": {},
     "output_type": "execute_result"
    }
   ],
   "source": [
    "prev_sae_sentiment.columns, additional_sae_sentiment.columns "
   ]
  },
  {
   "cell_type": "code",
   "execution_count": 65,
   "id": "60bfc740-651e-498d-872a-6afa24bf5bb1",
   "metadata": {},
   "outputs": [
    {
     "data": {
      "text/html": [
       "<div>\n",
       "<style scoped>\n",
       "    .dataframe tbody tr th:only-of-type {\n",
       "        vertical-align: middle;\n",
       "    }\n",
       "\n",
       "    .dataframe tbody tr th {\n",
       "        vertical-align: top;\n",
       "    }\n",
       "\n",
       "    .dataframe thead th {\n",
       "        text-align: right;\n",
       "    }\n",
       "</style>\n",
       "<table border=\"1\" class=\"dataframe\">\n",
       "  <thead>\n",
       "    <tr style=\"text-align: right;\">\n",
       "      <th></th>\n",
       "      <th>standard_american_english</th>\n",
       "      <th>sae_labels</th>\n",
       "    </tr>\n",
       "  </thead>\n",
       "  <tbody>\n",
       "    <tr>\n",
       "      <th>0</th>\n",
       "      <td>I won't give her anything but bubble gum and a...</td>\n",
       "      <td>Negative</td>\n",
       "    </tr>\n",
       "    <tr>\n",
       "      <th>1</th>\n",
       "      <td>Yes, that's right. There's nothing like gettin...</td>\n",
       "      <td>Positive</td>\n",
       "    </tr>\n",
       "    <tr>\n",
       "      <th>2</th>\n",
       "      <td>Mixed, huh? Those dark knees and elbows will g...</td>\n",
       "      <td>Neutral</td>\n",
       "    </tr>\n",
       "    <tr>\n",
       "      <th>3</th>\n",
       "      <td>The guy Mike James from the Mavericks isn't go...</td>\n",
       "      <td>Negative</td>\n",
       "    </tr>\n",
       "    <tr>\n",
       "      <th>4</th>\n",
       "      <td>It took a complete stranger to tell me he is p...</td>\n",
       "      <td>Positive</td>\n",
       "    </tr>\n",
       "  </tbody>\n",
       "</table>\n",
       "</div>"
      ],
      "text/plain": [
       "                           standard_american_english sae_labels\n",
       "0  I won't give her anything but bubble gum and a...   Negative\n",
       "1  Yes, that's right. There's nothing like gettin...   Positive\n",
       "2  Mixed, huh? Those dark knees and elbows will g...    Neutral\n",
       "3  The guy Mike James from the Mavericks isn't go...   Negative\n",
       "4  It took a complete stranger to tell me he is p...   Positive"
      ]
     },
     "execution_count": 65,
     "metadata": {},
     "output_type": "execute_result"
    }
   ],
   "source": [
    "combined_sae_sentiment = pd.concat([prev_sae_sentiment, additional_sae_sentiment], axis=0)\n",
    "combined_sae_sentiment.head()"
   ]
  },
  {
   "cell_type": "code",
   "execution_count": 66,
   "id": "e3515012-e229-44df-a3be-e069fc2c693b",
   "metadata": {},
   "outputs": [],
   "source": [
    "combined_sae_sentiment.to_csv(f\"{target_path}/GPT-4o-mini-SAE-sentiment.csv\", index=False)"
   ]
  },
  {
   "cell_type": "markdown",
   "id": "f0830aaa-fa01-4080-bc2b-9a49d5ed6cce",
   "metadata": {},
   "source": [
    "**AAE from SAE**"
   ]
  },
  {
   "cell_type": "code",
   "execution_count": 67,
   "id": "54dc5853-c75e-405c-8f57-2577b45d75ca",
   "metadata": {},
   "outputs": [],
   "source": [
    "prev_aae_from_sae = pd.read_csv(f\"../GPT-4o-updated-2000/GPT-4o-mini-AAE_from_SAE.csv\")\n",
    "additional_aae_from_sae = pd.read_csv(f\"{additional_3000_path}/GPT-4o-mini-AAE_from_SAE.csv\")"
   ]
  },
  {
   "cell_type": "code",
   "execution_count": 68,
   "id": "7fd4461a-d7e7-4c96-b6b8-99f7b5352954",
   "metadata": {},
   "outputs": [
    {
     "data": {
      "text/plain": [
       "(Index(['aae_from_sae', 'standard_american_english'], dtype='object'),\n",
       " Index(['aae_from_sae', 'standard_american_english'], dtype='object'))"
      ]
     },
     "execution_count": 68,
     "metadata": {},
     "output_type": "execute_result"
    }
   ],
   "source": [
    "prev_aae_from_sae.columns, additional_aae_from_sae.columns "
   ]
  },
  {
   "cell_type": "code",
   "execution_count": 69,
   "id": "e8b80c83-cd0f-46a0-ab06-3692fd5d1fe7",
   "metadata": {},
   "outputs": [
    {
     "data": {
      "text/html": [
       "<div>\n",
       "<style scoped>\n",
       "    .dataframe tbody tr th:only-of-type {\n",
       "        vertical-align: middle;\n",
       "    }\n",
       "\n",
       "    .dataframe tbody tr th {\n",
       "        vertical-align: top;\n",
       "    }\n",
       "\n",
       "    .dataframe thead th {\n",
       "        text-align: right;\n",
       "    }\n",
       "</style>\n",
       "<table border=\"1\" class=\"dataframe\">\n",
       "  <thead>\n",
       "    <tr style=\"text-align: right;\">\n",
       "      <th></th>\n",
       "      <th>aae_from_sae</th>\n",
       "      <th>standard_american_english</th>\n",
       "    </tr>\n",
       "  </thead>\n",
       "  <tbody>\n",
       "    <tr>\n",
       "      <th>0</th>\n",
       "      <td>I ain't givin' her nothin' but some bubble gum...</td>\n",
       "      <td>I won't give her anything but bubble gum and a...</td>\n",
       "    </tr>\n",
       "    <tr>\n",
       "      <th>1</th>\n",
       "      <td>Yeah, that's right. Ain't nothin' like gettin'...</td>\n",
       "      <td>Yes, that's right. There's nothing like gettin...</td>\n",
       "    </tr>\n",
       "    <tr>\n",
       "      <th>2</th>\n",
       "      <td>Mixed, huh? Those dark knees and elbows gon' g...</td>\n",
       "      <td>Mixed, huh? Those dark knees and elbows will g...</td>\n",
       "    </tr>\n",
       "    <tr>\n",
       "      <th>3</th>\n",
       "      <td>That dude Mike James from the Mavericks ain't ...</td>\n",
       "      <td>The guy Mike James from the Mavericks isn't go...</td>\n",
       "    </tr>\n",
       "    <tr>\n",
       "      <th>4</th>\n",
       "      <td>It took a whole stranger to tell me he proud o...</td>\n",
       "      <td>It took a complete stranger to tell me he is p...</td>\n",
       "    </tr>\n",
       "  </tbody>\n",
       "</table>\n",
       "</div>"
      ],
      "text/plain": [
       "                                        aae_from_sae  \\\n",
       "0  I ain't givin' her nothin' but some bubble gum...   \n",
       "1  Yeah, that's right. Ain't nothin' like gettin'...   \n",
       "2  Mixed, huh? Those dark knees and elbows gon' g...   \n",
       "3  That dude Mike James from the Mavericks ain't ...   \n",
       "4  It took a whole stranger to tell me he proud o...   \n",
       "\n",
       "                           standard_american_english  \n",
       "0  I won't give her anything but bubble gum and a...  \n",
       "1  Yes, that's right. There's nothing like gettin...  \n",
       "2  Mixed, huh? Those dark knees and elbows will g...  \n",
       "3  The guy Mike James from the Mavericks isn't go...  \n",
       "4  It took a complete stranger to tell me he is p...  "
      ]
     },
     "execution_count": 69,
     "metadata": {},
     "output_type": "execute_result"
    }
   ],
   "source": [
    "combined_aae_from_sae = pd.concat([prev_aae_from_sae, additional_aae_from_sae], axis=0)\n",
    "combined_aae_from_sae.head()"
   ]
  },
  {
   "cell_type": "code",
   "execution_count": 70,
   "id": "5ae6ae33-7676-4070-9d3b-a9a0e8d55ce3",
   "metadata": {},
   "outputs": [],
   "source": [
    "combined_aae_from_sae.to_csv(f\"{target_path}/GPT-4o-mini-AAE_from_SAE.csv\", index=False)"
   ]
  },
  {
   "cell_type": "markdown",
   "id": "047949dd-76b8-4a80-a18a-7685fbd16c5d",
   "metadata": {},
   "source": [
    "**AAE from SAE with sentiment**"
   ]
  },
  {
   "cell_type": "code",
   "execution_count": 71,
   "id": "5eb5e874-7f18-4587-bb81-9befdd569287",
   "metadata": {},
   "outputs": [],
   "source": [
    "prev_aae_from_sae_sentiment = pd.read_csv(f\"../GPT-4o-updated-2000/GPT-4o-mini-AAE_from_SAE-labels.csv\")\n",
    "additional_aae_from_sae_sentiment = pd.read_csv(f\"{additional_3000_path}/GPT-4o-mini-AAE_from_SAE_labels-final.csv\")"
   ]
  },
  {
   "cell_type": "code",
   "execution_count": 72,
   "id": "f41f3ccc-7861-45ee-bfd2-fd6bd0b73652",
   "metadata": {},
   "outputs": [
    {
     "data": {
      "text/plain": [
       "(Index(['aae_from_sae', 'sentiment'], dtype='object'),\n",
       " Index(['index', 'aae_from_sae', 'sentiment'], dtype='object'))"
      ]
     },
     "execution_count": 72,
     "metadata": {},
     "output_type": "execute_result"
    }
   ],
   "source": [
    "prev_aae_from_sae_sentiment.columns, additional_aae_from_sae_sentiment.columns "
   ]
  },
  {
   "cell_type": "code",
   "execution_count": 73,
   "id": "3991bd27-e5e6-46f7-bce8-96b92cc997ff",
   "metadata": {},
   "outputs": [],
   "source": [
    "additional_aae_from_sae_sentiment.drop(columns={'index'}, inplace=True)"
   ]
  },
  {
   "cell_type": "code",
   "execution_count": 74,
   "id": "da49c016-c872-4325-b4e9-16686785d9f5",
   "metadata": {},
   "outputs": [
    {
     "data": {
      "text/plain": [
       "(Index(['aae_from_sae', 'sentiment'], dtype='object'),\n",
       " Index(['aae_from_sae', 'sentiment'], dtype='object'))"
      ]
     },
     "execution_count": 74,
     "metadata": {},
     "output_type": "execute_result"
    }
   ],
   "source": [
    "prev_aae_from_sae_sentiment.columns, additional_aae_from_sae_sentiment.columns "
   ]
  },
  {
   "cell_type": "code",
   "execution_count": 75,
   "id": "660a25a1-aaa8-4ce9-aae0-0003817a18a3",
   "metadata": {},
   "outputs": [
    {
     "data": {
      "text/html": [
       "<div>\n",
       "<style scoped>\n",
       "    .dataframe tbody tr th:only-of-type {\n",
       "        vertical-align: middle;\n",
       "    }\n",
       "\n",
       "    .dataframe tbody tr th {\n",
       "        vertical-align: top;\n",
       "    }\n",
       "\n",
       "    .dataframe thead th {\n",
       "        text-align: right;\n",
       "    }\n",
       "</style>\n",
       "<table border=\"1\" class=\"dataframe\">\n",
       "  <thead>\n",
       "    <tr style=\"text-align: right;\">\n",
       "      <th></th>\n",
       "      <th>aae_from_sae</th>\n",
       "      <th>sentiment</th>\n",
       "    </tr>\n",
       "  </thead>\n",
       "  <tbody>\n",
       "    <tr>\n",
       "      <th>0</th>\n",
       "      <td>I ain't givin' her nothin' but some bubble gum...</td>\n",
       "      <td>Negative</td>\n",
       "    </tr>\n",
       "    <tr>\n",
       "      <th>1</th>\n",
       "      <td>Yeah, that's right. Ain't nothin' like gettin'...</td>\n",
       "      <td>Positive</td>\n",
       "    </tr>\n",
       "    <tr>\n",
       "      <th>2</th>\n",
       "      <td>Mixed, huh? Those dark knees and elbows gon' g...</td>\n",
       "      <td>Neutral</td>\n",
       "    </tr>\n",
       "    <tr>\n",
       "      <th>3</th>\n",
       "      <td>That dude Mike James from the Mavericks ain't ...</td>\n",
       "      <td>Negative</td>\n",
       "    </tr>\n",
       "    <tr>\n",
       "      <th>4</th>\n",
       "      <td>It took a whole stranger to tell me he proud o...</td>\n",
       "      <td>Positive</td>\n",
       "    </tr>\n",
       "  </tbody>\n",
       "</table>\n",
       "</div>"
      ],
      "text/plain": [
       "                                        aae_from_sae sentiment\n",
       "0  I ain't givin' her nothin' but some bubble gum...  Negative\n",
       "1  Yeah, that's right. Ain't nothin' like gettin'...  Positive\n",
       "2  Mixed, huh? Those dark knees and elbows gon' g...   Neutral\n",
       "3  That dude Mike James from the Mavericks ain't ...  Negative\n",
       "4  It took a whole stranger to tell me he proud o...  Positive"
      ]
     },
     "execution_count": 75,
     "metadata": {},
     "output_type": "execute_result"
    }
   ],
   "source": [
    "combined_aae_from_sae_sentiment = pd.concat([prev_aae_from_sae_sentiment, additional_aae_from_sae_sentiment], axis=0)\n",
    "combined_aae_from_sae_sentiment.head()"
   ]
  },
  {
   "cell_type": "code",
   "execution_count": 76,
   "id": "0d91227f-4111-4db3-9c58-0de8067e355f",
   "metadata": {},
   "outputs": [
    {
     "data": {
      "text/plain": [
       "(5000, 2)"
      ]
     },
     "execution_count": 76,
     "metadata": {},
     "output_type": "execute_result"
    }
   ],
   "source": [
    "combined_aae_from_sae_sentiment.shape"
   ]
  },
  {
   "cell_type": "code",
   "execution_count": 77,
   "id": "a7683871-a2f6-4f31-88a1-e076655a8315",
   "metadata": {},
   "outputs": [],
   "source": [
    "combined_aae_from_sae_sentiment.to_csv(f\"{target_path}/GPT-4o-mini-AAE_from_SAE-sentiment.csv\", index=False)"
   ]
  },
  {
   "cell_type": "markdown",
   "id": "4647b94c-55cb-4647-a712-004ac37a2220",
   "metadata": {},
   "source": [
    "# PHI\n",
    "\n",
    "**AAE with sentiment**"
   ]
  },
  {
   "cell_type": "code",
   "execution_count": 16,
   "id": "c1375c75-fd49-4a0b-ad8a-627c9d0f05b8",
   "metadata": {},
   "outputs": [],
   "source": [
    "prev_aae = pd.read_csv(f\"{previous_2000_path}/Phi-3-aae-labels.csv\")\n",
    "additional_aae = pd.read_csv(f\"{additional_3000_path}/Phi-3-AAE-Labels.csv\")"
   ]
  },
  {
   "cell_type": "code",
   "execution_count": 17,
   "id": "d4ac795c-b626-4dfd-81c8-3f725bf0b8eb",
   "metadata": {},
   "outputs": [
    {
     "data": {
      "text/plain": [
       "(Index(['sentence', 'sentiment'], dtype='object'),\n",
       " Index(['text', 'sentiment'], dtype='object'))"
      ]
     },
     "execution_count": 17,
     "metadata": {},
     "output_type": "execute_result"
    }
   ],
   "source": [
    "prev_aae.columns, additional_aae.columns "
   ]
  },
  {
   "cell_type": "code",
   "execution_count": 18,
   "id": "90927905-dc57-424c-82f6-7fcc5d8a856f",
   "metadata": {},
   "outputs": [],
   "source": [
    "prev_aae.rename(columns={\"sentence\" : \"text\"}, inplace=True)"
   ]
  },
  {
   "cell_type": "code",
   "execution_count": 19,
   "id": "fb321e8f-6ad1-4368-8a51-fd6e1ae85e84",
   "metadata": {},
   "outputs": [
    {
     "data": {
      "text/html": [
       "<div>\n",
       "<style scoped>\n",
       "    .dataframe tbody tr th:only-of-type {\n",
       "        vertical-align: middle;\n",
       "    }\n",
       "\n",
       "    .dataframe tbody tr th {\n",
       "        vertical-align: top;\n",
       "    }\n",
       "\n",
       "    .dataframe thead th {\n",
       "        text-align: right;\n",
       "    }\n",
       "</style>\n",
       "<table border=\"1\" class=\"dataframe\">\n",
       "  <thead>\n",
       "    <tr style=\"text-align: right;\">\n",
       "      <th></th>\n",
       "      <th>text</th>\n",
       "      <th>sentiment</th>\n",
       "    </tr>\n",
       "  </thead>\n",
       "  <tbody>\n",
       "    <tr>\n",
       "      <th>0</th>\n",
       "      <td>Bitch cant get shit from me but bubble gum nd ...</td>\n",
       "      <td>Negative</td>\n",
       "    </tr>\n",
       "    <tr>\n",
       "      <th>1</th>\n",
       "      <td>@islandboi_B yes that's what's up. Nothin like...</td>\n",
       "      <td>Positive</td>\n",
       "    </tr>\n",
       "    <tr>\n",
       "      <th>2</th>\n",
       "      <td>Mixed huh !? Those black ass knees and elbows ...</td>\n",
       "      <td>Negative</td>\n",
       "    </tr>\n",
       "    <tr>\n",
       "      <th>3</th>\n",
       "      <td>The bul Mike James from @mavs ain't shit n he ...</td>\n",
       "      <td>Negative</td>\n",
       "    </tr>\n",
       "    <tr>\n",
       "      <th>4</th>\n",
       "      <td>It took for a whole stranger to tell me he PRO...</td>\n",
       "      <td>Positive</td>\n",
       "    </tr>\n",
       "  </tbody>\n",
       "</table>\n",
       "</div>"
      ],
      "text/plain": [
       "                                                text sentiment\n",
       "0  Bitch cant get shit from me but bubble gum nd ...  Negative\n",
       "1  @islandboi_B yes that's what's up. Nothin like...  Positive\n",
       "2  Mixed huh !? Those black ass knees and elbows ...  Negative\n",
       "3  The bul Mike James from @mavs ain't shit n he ...  Negative\n",
       "4  It took for a whole stranger to tell me he PRO...  Positive"
      ]
     },
     "execution_count": 19,
     "metadata": {},
     "output_type": "execute_result"
    }
   ],
   "source": [
    "combined_aae = pd.concat([prev_aae, additional_aae], axis=0)\n",
    "combined_aae.head()"
   ]
  },
  {
   "cell_type": "code",
   "execution_count": 20,
   "id": "d34357ad-96bb-4f43-b483-eb93c4110526",
   "metadata": {},
   "outputs": [
    {
     "data": {
      "text/plain": [
       "(5000, 2)"
      ]
     },
     "execution_count": 20,
     "metadata": {},
     "output_type": "execute_result"
    }
   ],
   "source": [
    "combined_aae.shape"
   ]
  },
  {
   "cell_type": "code",
   "execution_count": 21,
   "id": "87785a48-412a-4231-8f87-a6724a09dece",
   "metadata": {},
   "outputs": [],
   "source": [
    "combined_aae.to_csv(f\"{target_path}/Ph-3-medium-AAE-sentiment.csv\", index=False)"
   ]
  },
  {
   "cell_type": "markdown",
   "id": "a2439f3b-2edf-48f9-bb6d-58d6bc1c2af9",
   "metadata": {},
   "source": [
    "**SAE**"
   ]
  },
  {
   "cell_type": "code",
   "execution_count": 22,
   "id": "bad060cc-ac30-4c69-b4c6-f8302cbacdc0",
   "metadata": {},
   "outputs": [],
   "source": [
    "prev_sae = pd.read_csv(f\"{previous_2000_path}/Phi-3-sae.csv\")\n",
    "additional_sae = pd.read_csv(f\"{additional_3000_path}/Phi-3-SAE.csv\")"
   ]
  },
  {
   "cell_type": "code",
   "execution_count": 23,
   "id": "391b5ef5-3cfb-43eb-9ae7-9ae14231e86f",
   "metadata": {},
   "outputs": [
    {
     "data": {
      "text/plain": [
       "(Index(['standard_american_english', 'aae'], dtype='object'),\n",
       " Index(['african_american_english', 'standard_american_english'], dtype='object'))"
      ]
     },
     "execution_count": 23,
     "metadata": {},
     "output_type": "execute_result"
    }
   ],
   "source": [
    "prev_sae.columns, additional_sae.columns "
   ]
  },
  {
   "cell_type": "code",
   "execution_count": 24,
   "id": "966fb308-122c-4457-8c2a-67d6985d296a",
   "metadata": {},
   "outputs": [],
   "source": [
    "prev_sae.rename(columns={'aae' : 'african_american_english'}, inplace=True)"
   ]
  },
  {
   "cell_type": "code",
   "execution_count": 25,
   "id": "dc98e18d-a021-4fc3-9102-9c86cd0aea32",
   "metadata": {},
   "outputs": [
    {
     "data": {
      "text/html": [
       "<div>\n",
       "<style scoped>\n",
       "    .dataframe tbody tr th:only-of-type {\n",
       "        vertical-align: middle;\n",
       "    }\n",
       "\n",
       "    .dataframe tbody tr th {\n",
       "        vertical-align: top;\n",
       "    }\n",
       "\n",
       "    .dataframe thead th {\n",
       "        text-align: right;\n",
       "    }\n",
       "</style>\n",
       "<table border=\"1\" class=\"dataframe\">\n",
       "  <thead>\n",
       "    <tr style=\"text-align: right;\">\n",
       "      <th></th>\n",
       "      <th>standard_american_english</th>\n",
       "      <th>african_american_english</th>\n",
       "    </tr>\n",
       "  </thead>\n",
       "  <tbody>\n",
       "    <tr>\n",
       "      <th>0</th>\n",
       "      <td>She can't get anything from me, but bubble gum...</td>\n",
       "      <td>Bitch cant get shit from me but bubble gum nd ...</td>\n",
       "    </tr>\n",
       "    <tr>\n",
       "      <th>1</th>\n",
       "      <td>@islandboi_B Yes, that's what's up. Nothing li...</td>\n",
       "      <td>@islandboi_B yes that's what's up. Nothin like...</td>\n",
       "    </tr>\n",
       "    <tr>\n",
       "      <th>2</th>\n",
       "      <td>Mixed, huh! Those prominent knees and elbows w...</td>\n",
       "      <td>Mixed huh !? Those black ass knees and elbows ...</td>\n",
       "    </tr>\n",
       "    <tr>\n",
       "      <th>3</th>\n",
       "      <td>The player Mike James from the Mavs is not imp...</td>\n",
       "      <td>The bul Mike James from @mavs ain't shit n he ...</td>\n",
       "    </tr>\n",
       "    <tr>\n",
       "      <th>4</th>\n",
       "      <td>It took a whole stranger to tell me he is prou...</td>\n",
       "      <td>It took for a whole stranger to tell me he PRO...</td>\n",
       "    </tr>\n",
       "  </tbody>\n",
       "</table>\n",
       "</div>"
      ],
      "text/plain": [
       "                           standard_american_english  \\\n",
       "0  She can't get anything from me, but bubble gum...   \n",
       "1  @islandboi_B Yes, that's what's up. Nothing li...   \n",
       "2  Mixed, huh! Those prominent knees and elbows w...   \n",
       "3  The player Mike James from the Mavs is not imp...   \n",
       "4  It took a whole stranger to tell me he is prou...   \n",
       "\n",
       "                            african_american_english  \n",
       "0  Bitch cant get shit from me but bubble gum nd ...  \n",
       "1  @islandboi_B yes that's what's up. Nothin like...  \n",
       "2  Mixed huh !? Those black ass knees and elbows ...  \n",
       "3  The bul Mike James from @mavs ain't shit n he ...  \n",
       "4  It took for a whole stranger to tell me he PRO...  "
      ]
     },
     "execution_count": 25,
     "metadata": {},
     "output_type": "execute_result"
    }
   ],
   "source": [
    "combined_sae = pd.concat([prev_sae, additional_sae], axis=0)\n",
    "combined_sae.head()"
   ]
  },
  {
   "cell_type": "code",
   "execution_count": 26,
   "id": "cb941e12-caf9-4626-8905-527b82804c2c",
   "metadata": {},
   "outputs": [],
   "source": [
    "combined_sae.to_csv(f\"{target_path}/Phi-3-medium-SAE.csv\", index=False)"
   ]
  },
  {
   "cell_type": "markdown",
   "id": "c809152f-d00c-4d00-82fd-40c5d0338797",
   "metadata": {},
   "source": [
    "**SAE with sentiment**"
   ]
  },
  {
   "cell_type": "code",
   "execution_count": 27,
   "id": "47199992-829b-4990-855e-8c2edb52c6a5",
   "metadata": {},
   "outputs": [],
   "source": [
    "prev_sae_sentiment = pd.read_csv(f\"{previous_2000_path}/Phi-3-sae-labels.csv\")\n",
    "additional_sae_sentiment = pd.read_csv(f\"{additional_3000_path}/Phi-3-SAE-Labels.csv\")"
   ]
  },
  {
   "cell_type": "code",
   "execution_count": 28,
   "id": "008dee6a-b356-43e3-97b8-3fb58cf01222",
   "metadata": {},
   "outputs": [
    {
     "data": {
      "text/plain": [
       "(Index(['standard_american_english', 'sae_labels'], dtype='object'),\n",
       " Index(['standard_american_english', 'sae_labels'], dtype='object'))"
      ]
     },
     "execution_count": 28,
     "metadata": {},
     "output_type": "execute_result"
    }
   ],
   "source": [
    "prev_sae_sentiment.columns, additional_sae_sentiment.columns "
   ]
  },
  {
   "cell_type": "code",
   "execution_count": 29,
   "id": "c1d064bd-c83e-49f0-aa32-0853376a2ffd",
   "metadata": {},
   "outputs": [
    {
     "data": {
      "text/html": [
       "<div>\n",
       "<style scoped>\n",
       "    .dataframe tbody tr th:only-of-type {\n",
       "        vertical-align: middle;\n",
       "    }\n",
       "\n",
       "    .dataframe tbody tr th {\n",
       "        vertical-align: top;\n",
       "    }\n",
       "\n",
       "    .dataframe thead th {\n",
       "        text-align: right;\n",
       "    }\n",
       "</style>\n",
       "<table border=\"1\" class=\"dataframe\">\n",
       "  <thead>\n",
       "    <tr style=\"text-align: right;\">\n",
       "      <th></th>\n",
       "      <th>standard_american_english</th>\n",
       "      <th>sae_labels</th>\n",
       "    </tr>\n",
       "  </thead>\n",
       "  <tbody>\n",
       "    <tr>\n",
       "      <th>0</th>\n",
       "      <td>She can't get anything from me, but bubble gum...</td>\n",
       "      <td>Negative</td>\n",
       "    </tr>\n",
       "    <tr>\n",
       "      <th>1</th>\n",
       "      <td>@islandboi_B Yes, that's what's up. Nothing li...</td>\n",
       "      <td>Positive</td>\n",
       "    </tr>\n",
       "    <tr>\n",
       "      <th>2</th>\n",
       "      <td>Mixed, huh! Those prominent knees and elbows w...</td>\n",
       "      <td>Negative</td>\n",
       "    </tr>\n",
       "    <tr>\n",
       "      <th>3</th>\n",
       "      <td>The player Mike James from the Mavs is not imp...</td>\n",
       "      <td>Negative</td>\n",
       "    </tr>\n",
       "    <tr>\n",
       "      <th>4</th>\n",
       "      <td>It took a whole stranger to tell me he is prou...</td>\n",
       "      <td>Positive</td>\n",
       "    </tr>\n",
       "  </tbody>\n",
       "</table>\n",
       "</div>"
      ],
      "text/plain": [
       "                           standard_american_english sae_labels\n",
       "0  She can't get anything from me, but bubble gum...   Negative\n",
       "1  @islandboi_B Yes, that's what's up. Nothing li...   Positive\n",
       "2  Mixed, huh! Those prominent knees and elbows w...   Negative\n",
       "3  The player Mike James from the Mavs is not imp...   Negative\n",
       "4  It took a whole stranger to tell me he is prou...   Positive"
      ]
     },
     "execution_count": 29,
     "metadata": {},
     "output_type": "execute_result"
    }
   ],
   "source": [
    "combined_sae_sentiment = pd.concat([prev_sae_sentiment, additional_sae_sentiment], axis=0)\n",
    "combined_sae_sentiment.head()"
   ]
  },
  {
   "cell_type": "code",
   "execution_count": 30,
   "id": "328a7253-cdad-4d93-846b-d23a2beb87be",
   "metadata": {},
   "outputs": [],
   "source": [
    "combined_sae_sentiment.to_csv(f\"{target_path}/Phi-3-medium-SAE-sentiment.csv\", index=False)"
   ]
  },
  {
   "cell_type": "markdown",
   "id": "c31d76fd-5b7b-4847-8528-184b5c98f48f",
   "metadata": {},
   "source": [
    "**AAE from SAE**"
   ]
  },
  {
   "cell_type": "code",
   "execution_count": 38,
   "id": "53c472ef-210a-4cbe-9d73-98f5c2f4e8bb",
   "metadata": {},
   "outputs": [],
   "source": [
    "prev_aae_from_sae = pd.read_csv(f\"{previous_2000_path}/Phi-3-AAE_from_SAE.csv\")\n",
    "additional_aae_from_sae = pd.read_csv(f\"{additional_3000_path}/Phi-3-AAE_from_SAE.csv\")"
   ]
  },
  {
   "cell_type": "code",
   "execution_count": 39,
   "id": "22cb2907-742c-4bd0-8222-3eebffa5acb6",
   "metadata": {},
   "outputs": [
    {
     "data": {
      "text/plain": [
       "(Index(['standard_american_english', 'aae_from_sae'], dtype='object'),\n",
       " Index(['AAE_from_SAE', 'standard_american_english'], dtype='object'))"
      ]
     },
     "execution_count": 39,
     "metadata": {},
     "output_type": "execute_result"
    }
   ],
   "source": [
    "prev_aae_from_sae.columns, additional_aae_from_sae.columns "
   ]
  },
  {
   "cell_type": "code",
   "execution_count": 40,
   "id": "f117dd19-6395-4966-a2dd-407e7e36ad11",
   "metadata": {},
   "outputs": [],
   "source": [
    "additional_aae_from_sae.rename(columns={'AAE_from_SAE' : 'aae_from_sae'}, inplace=True)"
   ]
  },
  {
   "cell_type": "code",
   "execution_count": 41,
   "id": "f3163655-1993-413c-916c-6cc4d3f1732d",
   "metadata": {},
   "outputs": [
    {
     "data": {
      "text/html": [
       "<div>\n",
       "<style scoped>\n",
       "    .dataframe tbody tr th:only-of-type {\n",
       "        vertical-align: middle;\n",
       "    }\n",
       "\n",
       "    .dataframe tbody tr th {\n",
       "        vertical-align: top;\n",
       "    }\n",
       "\n",
       "    .dataframe thead th {\n",
       "        text-align: right;\n",
       "    }\n",
       "</style>\n",
       "<table border=\"1\" class=\"dataframe\">\n",
       "  <thead>\n",
       "    <tr style=\"text-align: right;\">\n",
       "      <th></th>\n",
       "      <th>standard_american_english</th>\n",
       "      <th>aae_from_sae</th>\n",
       "    </tr>\n",
       "  </thead>\n",
       "  <tbody>\n",
       "    <tr>\n",
       "      <th>0</th>\n",
       "      <td>She can't get anything from me, but bubble gum...</td>\n",
       "      <td>She can't get nothin' from me, but bubble gum ...</td>\n",
       "    </tr>\n",
       "    <tr>\n",
       "      <th>1</th>\n",
       "      <td>@islandboi_B Yes, that's what's up. Nothing li...</td>\n",
       "      <td>\"@islandboi_B Yo, that's what's up. Nothin' li...</td>\n",
       "    </tr>\n",
       "    <tr>\n",
       "      <th>2</th>\n",
       "      <td>Mixed, huh! Those prominent knees and elbows w...</td>\n",
       "      <td>'Mixed, huh! Them big knees and elbows gon' sh...</td>\n",
       "    </tr>\n",
       "    <tr>\n",
       "      <th>3</th>\n",
       "      <td>The player Mike James from the Mavs is not imp...</td>\n",
       "      <td>\"Dat player Mike James from dey Mavs ain't imp...</td>\n",
       "    </tr>\n",
       "    <tr>\n",
       "      <th>4</th>\n",
       "      <td>It took a whole stranger to tell me he is prou...</td>\n",
       "      <td>It took a whole stranger to tell me he proud o...</td>\n",
       "    </tr>\n",
       "  </tbody>\n",
       "</table>\n",
       "</div>"
      ],
      "text/plain": [
       "                           standard_american_english  \\\n",
       "0  She can't get anything from me, but bubble gum...   \n",
       "1  @islandboi_B Yes, that's what's up. Nothing li...   \n",
       "2  Mixed, huh! Those prominent knees and elbows w...   \n",
       "3  The player Mike James from the Mavs is not imp...   \n",
       "4  It took a whole stranger to tell me he is prou...   \n",
       "\n",
       "                                        aae_from_sae  \n",
       "0  She can't get nothin' from me, but bubble gum ...  \n",
       "1  \"@islandboi_B Yo, that's what's up. Nothin' li...  \n",
       "2  'Mixed, huh! Them big knees and elbows gon' sh...  \n",
       "3  \"Dat player Mike James from dey Mavs ain't imp...  \n",
       "4  It took a whole stranger to tell me he proud o...  "
      ]
     },
     "execution_count": 41,
     "metadata": {},
     "output_type": "execute_result"
    }
   ],
   "source": [
    "combined_aae_from_sae = pd.concat([prev_aae_from_sae, additional_aae_from_sae], axis=0)\n",
    "combined_aae_from_sae.head()"
   ]
  },
  {
   "cell_type": "code",
   "execution_count": 42,
   "id": "19357de2-fd03-4866-ba00-c88944ab4222",
   "metadata": {},
   "outputs": [],
   "source": [
    "combined_aae_from_sae.to_csv(f\"{target_path}/Phi-3-medium-AAE_from_SAE.csv\", index=False)"
   ]
  },
  {
   "cell_type": "markdown",
   "id": "ba6a57fc-d28d-41d8-a484-acd29b6642f2",
   "metadata": {},
   "source": [
    "**AAE from SAE sentiment**"
   ]
  },
  {
   "cell_type": "code",
   "execution_count": 43,
   "id": "640022a7-737c-4c2b-84bd-804bd339efbd",
   "metadata": {},
   "outputs": [],
   "source": [
    "prev_aae_from_sae_sentiment = pd.read_csv(f\"{previous_2000_path}/Phi-3-AAE_from_SAE_sentiment.csv\")\n",
    "additional_aae_from_sae_sentiment = pd.read_csv(f\"{additional_3000_path}/Phi-3-AAE_from_SAE_labels.csv\")"
   ]
  },
  {
   "cell_type": "code",
   "execution_count": 44,
   "id": "66aed9d4-db9c-4a6c-a37d-a6cc44d4d336",
   "metadata": {},
   "outputs": [
    {
     "data": {
      "text/plain": [
       "(Index(['aae_from_sae', 'sentiment'], dtype='object'),\n",
       " Index(['Unnamed: 0', 'AAE_from_SAE', 'sentiment'], dtype='object'))"
      ]
     },
     "execution_count": 44,
     "metadata": {},
     "output_type": "execute_result"
    }
   ],
   "source": [
    "prev_aae_from_sae_sentiment.columns, additional_aae_from_sae_sentiment.columns "
   ]
  },
  {
   "cell_type": "code",
   "execution_count": 45,
   "id": "804622be-6f7e-4cc5-8bb3-0da8079879d3",
   "metadata": {},
   "outputs": [],
   "source": [
    "additional_aae_from_sae_sentiment.rename(columns={\"AAE_from_SAE\" : \"aae_from_sae\"}, inplace=True)\n",
    "additional_aae_from_sae_sentiment.drop('Unnamed: 0', axis=1, inplace=True)"
   ]
  },
  {
   "cell_type": "code",
   "execution_count": 46,
   "id": "bbf1fe52-60ef-4dac-a4c0-6e572bb1145c",
   "metadata": {},
   "outputs": [
    {
     "data": {
      "text/plain": [
       "(Index(['aae_from_sae', 'sentiment'], dtype='object'),\n",
       " Index(['aae_from_sae', 'sentiment'], dtype='object'))"
      ]
     },
     "execution_count": 46,
     "metadata": {},
     "output_type": "execute_result"
    }
   ],
   "source": [
    "prev_aae_from_sae_sentiment.columns, additional_aae_from_sae_sentiment.columns "
   ]
  },
  {
   "cell_type": "code",
   "execution_count": 47,
   "id": "8ad70ed5-2890-4451-b8f7-43bf7ae2fc89",
   "metadata": {},
   "outputs": [
    {
     "data": {
      "text/html": [
       "<div>\n",
       "<style scoped>\n",
       "    .dataframe tbody tr th:only-of-type {\n",
       "        vertical-align: middle;\n",
       "    }\n",
       "\n",
       "    .dataframe tbody tr th {\n",
       "        vertical-align: top;\n",
       "    }\n",
       "\n",
       "    .dataframe thead th {\n",
       "        text-align: right;\n",
       "    }\n",
       "</style>\n",
       "<table border=\"1\" class=\"dataframe\">\n",
       "  <thead>\n",
       "    <tr style=\"text-align: right;\">\n",
       "      <th></th>\n",
       "      <th>aae_from_sae</th>\n",
       "      <th>sentiment</th>\n",
       "    </tr>\n",
       "  </thead>\n",
       "  <tbody>\n",
       "    <tr>\n",
       "      <th>0</th>\n",
       "      <td>She can't get nothin' from me, but bubble gum ...</td>\n",
       "      <td>Negative</td>\n",
       "    </tr>\n",
       "    <tr>\n",
       "      <th>1</th>\n",
       "      <td>\"@islandboi_B Yo, that's what's up. Nothin' li...</td>\n",
       "      <td>Positive</td>\n",
       "    </tr>\n",
       "    <tr>\n",
       "      <th>2</th>\n",
       "      <td>'Mixed, huh! Them big knees and elbows gon' sh...</td>\n",
       "      <td>Negative</td>\n",
       "    </tr>\n",
       "    <tr>\n",
       "      <th>3</th>\n",
       "      <td>\"Dat player Mike James from dey Mavs ain't imp...</td>\n",
       "      <td>Negative</td>\n",
       "    </tr>\n",
       "    <tr>\n",
       "      <th>4</th>\n",
       "      <td>It took a whole stranger to tell me he proud o...</td>\n",
       "      <td>Positive</td>\n",
       "    </tr>\n",
       "  </tbody>\n",
       "</table>\n",
       "</div>"
      ],
      "text/plain": [
       "                                        aae_from_sae sentiment\n",
       "0  She can't get nothin' from me, but bubble gum ...  Negative\n",
       "1  \"@islandboi_B Yo, that's what's up. Nothin' li...  Positive\n",
       "2  'Mixed, huh! Them big knees and elbows gon' sh...  Negative\n",
       "3  \"Dat player Mike James from dey Mavs ain't imp...  Negative\n",
       "4  It took a whole stranger to tell me he proud o...  Positive"
      ]
     },
     "execution_count": 47,
     "metadata": {},
     "output_type": "execute_result"
    }
   ],
   "source": [
    "combined_aae_from_sae_sentiment = pd.concat([prev_aae_from_sae_sentiment, additional_aae_from_sae_sentiment], axis=0)\n",
    "combined_aae_from_sae_sentiment.head()"
   ]
  },
  {
   "cell_type": "code",
   "execution_count": 48,
   "id": "d575056f-fc9d-47df-854b-57afcbb7a00c",
   "metadata": {},
   "outputs": [],
   "source": [
    "combined_aae_from_sae_sentiment.to_csv(f\"{target_path}/Phi-3-medium-AAE_from_SAE-sentiment.csv\", index=False)"
   ]
  },
  {
   "cell_type": "code",
   "execution_count": null,
   "id": "00db42d2-020a-4e9b-bbe5-e891f96e8018",
   "metadata": {},
   "outputs": [],
   "source": []
  }
 ],
 "metadata": {
  "kernelspec": {
   "display_name": "augment",
   "language": "python",
   "name": "augmentation-project"
  },
  "language_info": {
   "codemirror_mode": {
    "name": "ipython",
    "version": 3
   },
   "file_extension": ".py",
   "mimetype": "text/x-python",
   "name": "python",
   "nbconvert_exporter": "python",
   "pygments_lexer": "ipython3",
   "version": "3.9.18"
  }
 },
 "nbformat": 4,
 "nbformat_minor": 5
}
