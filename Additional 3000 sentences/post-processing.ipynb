{
 "cells": [
  {
   "cell_type": "code",
   "execution_count": 1,
   "id": "83d35e76-09a0-4ed9-9d18-217b6e6b0859",
   "metadata": {},
   "outputs": [],
   "source": [
    "import pandas as pd\n",
    "from typing import List, Optional\n",
    "from tqdm import tqdm\n",
    "from langchain_openai import ChatOpenAI\n",
    "from langchain_core.pydantic_v1 import BaseModel, Field\n",
    "from langchain_core.prompts import ChatPromptTemplate\n",
    "from langchain_anthropic import ChatAnthropic\n",
    "import os\n",
    "\n",
    "\n",
    "os.environ['OPENAI_API_KEY'] = 'openai-api-key-here'\n",
    "os.environ['ANTHROPIC_API_KEY'] = 'anthropic-api-key-here'"
   ]
  },
  {
   "cell_type": "code",
   "execution_count": 61,
   "id": "3471644d-3b30-4c71-b442-0851727c40df",
   "metadata": {},
   "outputs": [],
   "source": [
    "class SentimentAnalysisResponse(BaseModel):\n",
    "    sentiment: str = Field(description=\"The sentiment of the sentence (Positive, Negative, or Neutral)\")\n",
    "\n",
    "# Define the prompt template\n",
    "chat_template = ChatPromptTemplate.from_messages(\n",
    "    [\n",
    "        (\n",
    "            \"system\",\n",
    "            \"\"\"Your task is to analyze the provided sentence written in African American English and identify the sentiment expressed by the author. \n",
    "            The sentiment should be classified as Positive, Negative, or Neutral ONLY. Do not make use of Mixed as a sentiment.\"\"\"\n",
    "        ),\n",
    "        (\"user\", \"{sentences}\")\n",
    "    ]\n",
    ")\n",
    "model = ChatAnthropic(model=\"claude-3-haiku-20240307\", timeout=None,\n",
    "    max_retries=2, temperature=0.0)\n",
    "runnable_single = chat_template | model.with_structured_output(schema=SentimentAnalysisResponse)"
   ]
  },
  {
   "cell_type": "code",
   "execution_count": 48,
   "id": "837d752d-957d-4089-a721-c8f12e4d3011",
   "metadata": {},
   "outputs": [],
   "source": [
    "# Function to process a single row\n",
    "def process_row_sentiment(row):\n",
    "    result = runnable_single.invoke({\"sentences\": row['text']})\n",
    "    return result.sentiment"
   ]
  },
  {
   "cell_type": "markdown",
   "id": "b7acc0ac-c010-4369-8471-8a678451f208",
   "metadata": {},
   "source": [
    "## Claude Haiku"
   ]
  },
  {
   "cell_type": "markdown",
   "id": "45c02113-4075-4822-aa58-e7e62b787d37",
   "metadata": {},
   "source": [
    "1. AAE"
   ]
  },
  {
   "cell_type": "code",
   "execution_count": 4,
   "id": "b17fc49e-3e23-4230-aa20-1936d83b2f76",
   "metadata": {},
   "outputs": [
    {
     "data": {
      "text/plain": [
       "array(['Negative', 'Positive', 'Neutral', 'Mixed', ': <UNKNOWN>',\n",
       "       '<UNKNOWN>', ': Positive'], dtype=object)"
      ]
     },
     "execution_count": 4,
     "metadata": {},
     "output_type": "execute_result"
    }
   ],
   "source": [
    "aae = pd.read_csv(\"./labeled/Claude-Haiku-AAE-Labels.csv\")\n",
    "aae[\"sentiment\"].unique()"
   ]
  },
  {
   "cell_type": "code",
   "execution_count": 5,
   "id": "7450a5b6-ba47-41c4-8e97-5b5fb29ad9f8",
   "metadata": {},
   "outputs": [],
   "source": [
    "# Process rows with non-standard sentiments\n",
    "mask = ~aae[\"sentiment\"].isin([\"Positive\", \"Negative\", \"Neutral\"])\n",
    "aae.loc[mask, \"sentiment\"] = aae[mask].apply(process_row_sentiment, axis=1)"
   ]
  },
  {
   "cell_type": "code",
   "execution_count": 6,
   "id": "fa5f5a5a-a532-4829-8a43-6a1e7436c6b4",
   "metadata": {},
   "outputs": [
    {
     "data": {
      "text/plain": [
       "array(['Negative', 'Positive', 'Neutral', 'Mixed'], dtype=object)"
      ]
     },
     "execution_count": 6,
     "metadata": {},
     "output_type": "execute_result"
    }
   ],
   "source": [
    "aae[\"sentiment\"].unique()"
   ]
  },
  {
   "cell_type": "code",
   "execution_count": 12,
   "id": "c5a5c7f2-e185-4759-a321-ef8cf6c0bc6d",
   "metadata": {},
   "outputs": [
    {
     "data": {
      "text/html": [
       "<div>\n",
       "<style scoped>\n",
       "    .dataframe tbody tr th:only-of-type {\n",
       "        vertical-align: middle;\n",
       "    }\n",
       "\n",
       "    .dataframe tbody tr th {\n",
       "        vertical-align: top;\n",
       "    }\n",
       "\n",
       "    .dataframe thead th {\n",
       "        text-align: right;\n",
       "    }\n",
       "</style>\n",
       "<table border=\"1\" class=\"dataframe\">\n",
       "  <thead>\n",
       "    <tr style=\"text-align: right;\">\n",
       "      <th></th>\n",
       "      <th>text</th>\n",
       "      <th>sentiment</th>\n",
       "    </tr>\n",
       "  </thead>\n",
       "  <tbody>\n",
       "    <tr>\n",
       "      <th>487</th>\n",
       "      <td>@itsneshaaaa I'm still mad at u for leaving me...</td>\n",
       "      <td>Mixed</td>\n",
       "    </tr>\n",
       "  </tbody>\n",
       "</table>\n",
       "</div>"
      ],
      "text/plain": [
       "                                                  text sentiment\n",
       "487  @itsneshaaaa I'm still mad at u for leaving me...     Mixed"
      ]
     },
     "execution_count": 12,
     "metadata": {},
     "output_type": "execute_result"
    }
   ],
   "source": [
    "mixed_sentiment_rows = aae[aae[\"sentiment\"] == \"Mixed\"]\n",
    "mixed_sentiment_rows"
   ]
  },
  {
   "cell_type": "code",
   "execution_count": 14,
   "id": "52ad6a20-84ac-4569-8934-49af9c771363",
   "metadata": {},
   "outputs": [
    {
     "name": "stdout",
     "output_type": "stream",
     "text": [
      "487    @itsneshaaaa I'm still mad at u for leaving me...\n",
      "Name: text, dtype: object\n"
     ]
    }
   ],
   "source": [
    "print(mixed_sentiment_rows['text'])"
   ]
  },
  {
   "cell_type": "code",
   "execution_count": 49,
   "id": "88b4afa6-053e-4167-aa04-1c4cb15187ae",
   "metadata": {},
   "outputs": [],
   "source": [
    "aae.loc[487, \"sentiment\"] = runnable_single.invoke({\"sentences\": aae.loc[487, \"text\"]}).sentiment"
   ]
  },
  {
   "cell_type": "code",
   "execution_count": 52,
   "id": "3dd1fb8e-dc65-4b58-9caf-8617853c7a5f",
   "metadata": {},
   "outputs": [],
   "source": [
    "aae.to_csv(\"./labeled/Claude-Haiku-AAE-Labels.csv\")"
   ]
  },
  {
   "cell_type": "markdown",
   "id": "da4bf7bc-5a9f-4733-9d33-e5cafd9e0b62",
   "metadata": {},
   "source": [
    "2. SAE Labels"
   ]
  },
  {
   "cell_type": "code",
   "execution_count": 54,
   "id": "4f5c53a4-d4b2-4951-a947-93ee27763be6",
   "metadata": {},
   "outputs": [
    {
     "data": {
      "text/plain": [
       "array(['Negative', 'Positive', 'Neutral', nan, 'Mixed', '<UNKNOWN>'],\n",
       "      dtype=object)"
      ]
     },
     "execution_count": 54,
     "metadata": {},
     "output_type": "execute_result"
    }
   ],
   "source": [
    "sae = pd.read_csv(\"./labeled/Claude-Haiku-sae-labels.csv\")\n",
    "sae[\"sae_labels\"].unique()"
   ]
  },
  {
   "cell_type": "code",
   "execution_count": 55,
   "id": "2389e930-566c-4c34-b38b-a2d9f0b1706c",
   "metadata": {},
   "outputs": [],
   "source": [
    "# Process rows with non-standard sentiments\n",
    "mask = ~sae[\"sae_labels\"].isin([\"Positive\", \"Negative\", \"Neutral\"])\n",
    "sae.loc[mask, \"sae_labels\"] = aae[mask].apply(process_row_sentiment, axis=1)"
   ]
  },
  {
   "cell_type": "code",
   "execution_count": 56,
   "id": "24ce784a-602a-4521-a063-85c4e0d897b8",
   "metadata": {},
   "outputs": [
    {
     "data": {
      "text/plain": [
       "array(['Negative', 'Positive', 'Neutral', 'Mixed'], dtype=object)"
      ]
     },
     "execution_count": 56,
     "metadata": {},
     "output_type": "execute_result"
    }
   ],
   "source": [
    "sae[\"sae_labels\"].unique()"
   ]
  },
  {
   "cell_type": "code",
   "execution_count": 57,
   "id": "90ed3e89-b06d-4445-a627-6ca89963cbed",
   "metadata": {},
   "outputs": [],
   "source": [
    "sae.to_csv(\"./labeled/Claude-Haiku-sae-labels.csv\")"
   ]
  },
  {
   "cell_type": "markdown",
   "id": "4923d052-d74e-4e24-b05d-1136a4804fa0",
   "metadata": {},
   "source": [
    "3. AAE from SAE labels"
   ]
  },
  {
   "cell_type": "code",
   "execution_count": 58,
   "id": "5ae0163f-a43f-4520-8559-0a3a69602bc9",
   "metadata": {},
   "outputs": [],
   "source": [
    "aae_from_sae = pd.read_csv(\"./labeled/Claude-Haiku-AAE_from_SAE_labels-final.csv\")"
   ]
  },
  {
   "cell_type": "code",
   "execution_count": 62,
   "id": "99d52fd9-3983-401f-a0bb-052c3758e6c6",
   "metadata": {},
   "outputs": [
    {
     "data": {
      "text/plain": [
       "array(['Negative', 'Positive', 'Neutral', 'Mixed', 'Sarcastic',\n",
       "       '<UNKNOWN>'], dtype=object)"
      ]
     },
     "execution_count": 62,
     "metadata": {},
     "output_type": "execute_result"
    }
   ],
   "source": [
    "aae_from_sae[\"sentiment\"].unique()"
   ]
  },
  {
   "cell_type": "code",
   "execution_count": 63,
   "id": "a637feed-09d2-46e9-a067-b77bdcd12243",
   "metadata": {},
   "outputs": [],
   "source": [
    "# Process rows with non-standard sentiments\n",
    "mask = ~aae_from_sae[\"sentiment\"].isin([\"Positive\", \"Negative\", \"Neutral\"])\n",
    "aae_from_sae.loc[mask, \"sentiment\"] = aae[mask].apply(process_row_sentiment, axis=1)"
   ]
  },
  {
   "cell_type": "code",
   "execution_count": 64,
   "id": "cd53def2-eb68-4e6c-afb7-8062b1a304da",
   "metadata": {},
   "outputs": [
    {
     "data": {
      "text/plain": [
       "array(['Negative', 'Positive', 'Neutral', 'Mixed'], dtype=object)"
      ]
     },
     "execution_count": 64,
     "metadata": {},
     "output_type": "execute_result"
    }
   ],
   "source": [
    "aae_from_sae[\"sentiment\"].unique()"
   ]
  },
  {
   "cell_type": "markdown",
   "id": "3333044a-72f8-484b-9987-6bf884b9dc06",
   "metadata": {},
   "source": [
    "## GPT"
   ]
  },
  {
   "cell_type": "code",
   "execution_count": 66,
   "id": "895aef9c-42c6-4e1c-861d-1a63feed4605",
   "metadata": {},
   "outputs": [],
   "source": [
    "os.environ['OPENAI_API_KEY'] = 'openai-api-key-here'\n",
    "\n",
    "class SentimentAnalysisResponse(BaseModel):\n",
    "    sentiment: str = Field(description=\"The sentiment of the sentence (Positive, Negative, or Neutral)\")\n",
    "\n",
    "# Define the prompt template\n",
    "chat_template = ChatPromptTemplate.from_messages(\n",
    "    [\n",
    "        (\n",
    "            \"system\",\n",
    "            \"\"\"Your task is to analyze the provided sentence written in African American English and identify the sentiment expressed by the author. \n",
    "            The sentiment should be classified as Positive, Negative, or Neutral ONLY. Do not make use of Mixed as a sentiment.\"\"\"\n",
    "        ),\n",
    "        (\"user\", \"{sentences}\")\n",
    "    ]\n",
    ")\n",
    "# Define the language model\n",
    "model = ChatOpenAI(model=\"gpt-4o-mini\", timeout=None,\n",
    "    max_retries=2, temperature=0.0)\n",
    "runnable_single = chat_template | model.with_structured_output(schema=SentimentAnalysisResponse)\n",
    "\n",
    "# Function to process a single row\n",
    "def process_row_sentiment(row):\n",
    "    result = runnable_single.invoke({\"sentences\": row['text']})\n",
    "    return result.sentiment"
   ]
  },
  {
   "cell_type": "markdown",
   "id": "fbc80838-0724-43ce-9909-d20b9a99a334",
   "metadata": {},
   "source": [
    "1. AAE labels"
   ]
  },
  {
   "cell_type": "code",
   "execution_count": 67,
   "id": "3ad778bf-d114-4d1f-867c-09693577b3f2",
   "metadata": {},
   "outputs": [
    {
     "data": {
      "text/plain": [
       "array(['Negative', 'Neutral', 'Positive'], dtype=object)"
      ]
     },
     "execution_count": 67,
     "metadata": {},
     "output_type": "execute_result"
    }
   ],
   "source": [
    "aae = pd.read_csv(\"./labeled/GPT-4o-mini-AAE-Labels.csv\")\n",
    "aae[\"sentiment\"].unique()"
   ]
  },
  {
   "cell_type": "markdown",
   "id": "1b6c5d2a-cc21-492e-8640-e009153af45e",
   "metadata": {},
   "source": [
    "2. SAE Labels"
   ]
  },
  {
   "cell_type": "code",
   "execution_count": 69,
   "id": "f58324e6-d69b-4ecc-801d-d0c2af5e8f5a",
   "metadata": {},
   "outputs": [
    {
     "data": {
      "text/plain": [
       "array(['Negative', 'Neutral', 'Positive'], dtype=object)"
      ]
     },
     "execution_count": 69,
     "metadata": {},
     "output_type": "execute_result"
    }
   ],
   "source": [
    "sae = pd.read_csv(\"./labeled/GPT-4o-mini-sae-labels.csv\")\n",
    "sae[\"sae_labels\"].unique()"
   ]
  },
  {
   "cell_type": "markdown",
   "id": "435f0994-5bf3-4aaf-9577-965003cec365",
   "metadata": {},
   "source": [
    "3. AAE from SAE labels"
   ]
  },
  {
   "cell_type": "code",
   "execution_count": 70,
   "id": "5c4a96e4-fd45-4151-b09a-e4920abc4607",
   "metadata": {},
   "outputs": [
    {
     "data": {
      "text/plain": [
       "array(['Negative', 'Neutral', 'Positive'], dtype=object)"
      ]
     },
     "execution_count": 70,
     "metadata": {},
     "output_type": "execute_result"
    }
   ],
   "source": [
    "aae_from_sae = pd.read_csv(\"./labeled/GPT-4o-mini-AAE_from_SAE_labels-final.csv\")\n",
    "aae_from_sae[\"sentiment\"].unique()"
   ]
  },
  {
   "cell_type": "markdown",
   "id": "eb2ba45c-30e0-4355-90ae-60c537999ec4",
   "metadata": {},
   "source": [
    "## Phi-3"
   ]
  },
  {
   "cell_type": "markdown",
   "id": "eb1e5831-a943-4d07-8ce6-f574bec0018c",
   "metadata": {},
   "source": [
    "1. AAE Labels"
   ]
  },
  {
   "cell_type": "code",
   "execution_count": 71,
   "id": "643d17cf-0067-400b-b9b7-90ddfda0f26d",
   "metadata": {},
   "outputs": [
    {
     "data": {
      "text/plain": [
       "array(['Negative', 'Neutral', 'Positive'], dtype=object)"
      ]
     },
     "execution_count": 71,
     "metadata": {},
     "output_type": "execute_result"
    }
   ],
   "source": [
    "aae = pd.read_csv(\"./labeled/Phi-3-AAE-Labels.csv\")\n",
    "aae[\"sentiment\"].unique()"
   ]
  },
  {
   "cell_type": "markdown",
   "id": "a9ff4cb4-573a-4708-8725-f55175805cc1",
   "metadata": {},
   "source": [
    "2. SAE labels"
   ]
  },
  {
   "cell_type": "code",
   "execution_count": 72,
   "id": "d10be660-bb85-48c7-a566-7b7268767410",
   "metadata": {},
   "outputs": [
    {
     "data": {
      "text/plain": [
       "array(['Negative', 'Neutral', 'Positive'], dtype=object)"
      ]
     },
     "execution_count": 72,
     "metadata": {},
     "output_type": "execute_result"
    }
   ],
   "source": [
    "sae = pd.read_csv(\"./labeled/Phi-3-SAE-Labels.csv\")\n",
    "sae[\"sae_labels\"].unique()"
   ]
  },
  {
   "cell_type": "markdown",
   "id": "fbab81dd-fe59-4326-a3e6-45d133f03cac",
   "metadata": {},
   "source": [
    "3. AAE from SAE"
   ]
  },
  {
   "cell_type": "code",
   "execution_count": 74,
   "id": "95840082-d078-4efe-a358-01d6f5143a3e",
   "metadata": {},
   "outputs": [
    {
     "data": {
      "text/plain": [
       "array(['Negative', 'Neutral', 'Positive', 'Unknown'], dtype=object)"
      ]
     },
     "execution_count": 74,
     "metadata": {},
     "output_type": "execute_result"
    }
   ],
   "source": [
    "aae_from_sae = pd.read_csv(\"./labeled/Phi-3-AAE_from_SAE_labels.csv\")\n",
    "aae_from_sae[\"AAE_from_SAE sentiment\"].unique()"
   ]
  },
  {
   "cell_type": "markdown",
   "id": "5cf4fe09-5952-4b4d-b290-1573c171a018",
   "metadata": {},
   "source": [
    "## Fixing the \"Unknowns\""
   ]
  },
  {
   "cell_type": "code",
   "execution_count": 75,
   "id": "36feedc9-c28f-4a96-b0ca-32cd5679277f",
   "metadata": {},
   "outputs": [
    {
     "name": "stderr",
     "output_type": "stream",
     "text": [
      "`flash-attention` package not found, consider installing for better performance: No module named 'flash_attn'.\n",
      "Current `flash-attenton` does not support `window_size`. Either upgrade or use `attn_implementation='eager'`.\n"
     ]
    },
    {
     "data": {
      "application/vnd.jupyter.widget-view+json": {
       "model_id": "b004eafbd28e42619ae5fa88c9bf4b70",
       "version_major": 2,
       "version_minor": 0
      },
      "text/plain": [
       "Loading checkpoint shards:   0%|          | 0/6 [00:00<?, ?it/s]"
      ]
     },
     "metadata": {},
     "output_type": "display_data"
    },
    {
     "data": {
      "application/vnd.jupyter.widget-view+json": {
       "model_id": "2abc1bf139d54d4d9c9297c73569525e",
       "version_major": 2,
       "version_minor": 0
      },
      "text/plain": [
       "tokenizer_config.json:   0%|          | 0.00/3.15k [00:00<?, ?B/s]"
      ]
     },
     "metadata": {},
     "output_type": "display_data"
    },
    {
     "data": {
      "application/vnd.jupyter.widget-view+json": {
       "model_id": "0d8461b524de4745aca2604ed3a14cb9",
       "version_major": 2,
       "version_minor": 0
      },
      "text/plain": [
       "tokenizer.model:   0%|          | 0.00/500k [00:00<?, ?B/s]"
      ]
     },
     "metadata": {},
     "output_type": "display_data"
    },
    {
     "data": {
      "application/vnd.jupyter.widget-view+json": {
       "model_id": "f3170a4e61d84b1da6f3c34cf691a1f1",
       "version_major": 2,
       "version_minor": 0
      },
      "text/plain": [
       "tokenizer.json:   0%|          | 0.00/1.84M [00:00<?, ?B/s]"
      ]
     },
     "metadata": {},
     "output_type": "display_data"
    },
    {
     "data": {
      "application/vnd.jupyter.widget-view+json": {
       "model_id": "f5b916461ec14472897809a0d0e1bf53",
       "version_major": 2,
       "version_minor": 0
      },
      "text/plain": [
       "added_tokens.json:   0%|          | 0.00/293 [00:00<?, ?B/s]"
      ]
     },
     "metadata": {},
     "output_type": "display_data"
    },
    {
     "data": {
      "application/vnd.jupyter.widget-view+json": {
       "model_id": "41cbf2a90ce54e149dab1fbb04ba6af2",
       "version_major": 2,
       "version_minor": 0
      },
      "text/plain": [
       "special_tokens_map.json:   0%|          | 0.00/568 [00:00<?, ?B/s]"
      ]
     },
     "metadata": {},
     "output_type": "display_data"
    }
   ],
   "source": [
    "import torch\n",
    "from transformers import AutoModelForCausalLM, AutoTokenizer, pipeline\n",
    "import pandas as pd\n",
    "from tqdm import tqdm\n",
    "import os\n",
    "cache_dir = \"../cache\"\n",
    "os.environ['TRANSFORMERS_CACHE'] = cache_dir\n",
    "\n",
    "# Load the Phi-3 model and tokenizer\n",
    "model_id = \"microsoft/Phi-3-medium-4k-instruct\"\n",
    "model = AutoModelForCausalLM.from_pretrained(\n",
    "    model_id,\n",
    "    device_map=\"auto\", \n",
    "    torch_dtype=\"auto\",\n",
    "    trust_remote_code=True,\n",
    "    cache_dir=cache_dir\n",
    ")\n",
    "tokenizer = AutoTokenizer.from_pretrained(model_id)"
   ]
  },
  {
   "cell_type": "code",
   "execution_count": 76,
   "id": "02ba4d03-6bd0-4db5-b783-6762196dbcc9",
   "metadata": {},
   "outputs": [],
   "source": [
    "pipe = pipeline(\n",
    "    \"text-generation\",\n",
    "    model=model,\n",
    "    tokenizer=tokenizer,\n",
    "    max_new_tokens=10,\n",
    ")"
   ]
  },
  {
   "cell_type": "code",
   "execution_count": 86,
   "id": "74ba8d92-2622-434c-a223-957a00ff3a39",
   "metadata": {},
   "outputs": [],
   "source": [
    "# Function to extract sentiment from model output\n",
    "def extract_sentiment(output):\n",
    "    response = output.split(\"<|assistant|>\")[-1].strip()\n",
    "    if \"Positive\" in response:\n",
    "        return \"Positive\"\n",
    "    elif \"Negative\" in response:\n",
    "        return \"Negative\"\n",
    "    elif \"Neutral\" in response:\n",
    "        return \"Neutral\"\n",
    "    else:\n",
    "        return \"Unknown\"\n",
    "    \n",
    "    \n",
    "def generate_sentiment(sentence):\n",
    "    outputs = pipe(\n",
    "        f\"\"\"<|user|>\n",
    "Your task is to analyze the provided sentences written in African American English and identify the sentiment expressed by the author. The sentiment should be must be classified as Positive, Negative, or Neutral. Reply with just the sentiment.\\n\n",
    "\"{sentence}\"<|end|>\n",
    "<|assistant|>\"\"\",\n",
    "        max_new_tokens=50,\n",
    "        do_sample=False,\n",
    "        num_return_sequences=1\n",
    "    )\n",
    "    return extract_sentiment(outputs[0][\"generated_text\"])"
   ]
  },
  {
   "cell_type": "code",
   "execution_count": 87,
   "id": "fccefa83-dfd9-451f-b199-15ca40f1320f",
   "metadata": {},
   "outputs": [],
   "source": [
    "# Function to process a single row\n",
    "def process_row_sentiment(row):\n",
    "    return generate_sentiment(row[\"text\"])"
   ]
  },
  {
   "cell_type": "code",
   "execution_count": 88,
   "id": "184b34b8-a18b-4309-88c6-759b5b489914",
   "metadata": {},
   "outputs": [
    {
     "name": "stderr",
     "output_type": "stream",
     "text": [
      "You seem to be using the pipelines sequentially on GPU. In order to maximize efficiency please use a dataset\n"
     ]
    }
   ],
   "source": [
    "# Process rows with non-standard sentiments\n",
    "mask = ~aae_from_sae[\"AAE_from_SAE sentiment\"].isin([\"Positive\", \"Negative\", \"Neutral\"])\n",
    "aae_from_sae.loc[mask, \"AAE_from_SAE sentiment\"] = aae[mask].apply(process_row_sentiment, axis=1)"
   ]
  },
  {
   "cell_type": "code",
   "execution_count": 89,
   "id": "f5456455-f073-4304-9844-787f860b8e55",
   "metadata": {},
   "outputs": [
    {
     "data": {
      "text/plain": [
       "array(['Negative', 'Neutral', 'Positive'], dtype=object)"
      ]
     },
     "execution_count": 89,
     "metadata": {},
     "output_type": "execute_result"
    }
   ],
   "source": [
    "aae_from_sae[\"AAE_from_SAE sentiment\"].unique()"
   ]
  },
  {
   "cell_type": "code",
   "execution_count": 90,
   "id": "1204faea-bb70-4202-b8c0-5a30ba6c6f6e",
   "metadata": {},
   "outputs": [],
   "source": [
    "aae_from_sae.rename(columns={\"AAE_from_SAE sentiment\" : \"sentiment\"}, inplace=True)"
   ]
  },
  {
   "cell_type": "code",
   "execution_count": 91,
   "id": "55ee7bc2-f5df-43c1-9a99-55efe5f1a61c",
   "metadata": {},
   "outputs": [
    {
     "data": {
      "text/html": [
       "<div>\n",
       "<style scoped>\n",
       "    .dataframe tbody tr th:only-of-type {\n",
       "        vertical-align: middle;\n",
       "    }\n",
       "\n",
       "    .dataframe tbody tr th {\n",
       "        vertical-align: top;\n",
       "    }\n",
       "\n",
       "    .dataframe thead th {\n",
       "        text-align: right;\n",
       "    }\n",
       "</style>\n",
       "<table border=\"1\" class=\"dataframe\">\n",
       "  <thead>\n",
       "    <tr style=\"text-align: right;\">\n",
       "      <th></th>\n",
       "      <th>AAE_from_SAE</th>\n",
       "      <th>sentiment</th>\n",
       "    </tr>\n",
       "  </thead>\n",
       "  <tbody>\n",
       "    <tr>\n",
       "      <th>0</th>\n",
       "      <td>If I don't get dis job tomorrow, I don't know ...</td>\n",
       "      <td>Negative</td>\n",
       "    </tr>\n",
       "    <tr>\n",
       "      <th>1</th>\n",
       "      <td>Ah'm gon' try double workouts, y'all. I be aim...</td>\n",
       "      <td>Neutral</td>\n",
       "    </tr>\n",
       "    <tr>\n",
       "      <th>2</th>\n",
       "      <td>Ah still gon' ha' his baby, 'cause he a good d...</td>\n",
       "      <td>Positive</td>\n",
       "    </tr>\n",
       "    <tr>\n",
       "      <th>3</th>\n",
       "      <td>I used someone as a reference without givin' n...</td>\n",
       "      <td>Neutral</td>\n",
       "    </tr>\n",
       "    <tr>\n",
       "      <th>4</th>\n",
       "      <td>@HumanistExec Try ginger for da sickness. Have...</td>\n",
       "      <td>Neutral</td>\n",
       "    </tr>\n",
       "  </tbody>\n",
       "</table>\n",
       "</div>"
      ],
      "text/plain": [
       "                                        AAE_from_SAE sentiment\n",
       "0  If I don't get dis job tomorrow, I don't know ...  Negative\n",
       "1  Ah'm gon' try double workouts, y'all. I be aim...   Neutral\n",
       "2  Ah still gon' ha' his baby, 'cause he a good d...  Positive\n",
       "3  I used someone as a reference without givin' n...   Neutral\n",
       "4  @HumanistExec Try ginger for da sickness. Have...   Neutral"
      ]
     },
     "execution_count": 91,
     "metadata": {},
     "output_type": "execute_result"
    }
   ],
   "source": [
    "aae_from_sae.head()"
   ]
  },
  {
   "cell_type": "code",
   "execution_count": 92,
   "id": "1b1c34b7-df53-4406-932d-d817eea0109e",
   "metadata": {},
   "outputs": [],
   "source": [
    "aae_from_sae.to_csv(\"./labeled/Phi-3-AAE_from_SAE_labels.csv\")"
   ]
  },
  {
   "cell_type": "code",
   "execution_count": null,
   "id": "1dd347b7-0ba7-4f6c-9964-34275ba5e8de",
   "metadata": {},
   "outputs": [],
   "source": []
  }
 ],
 "metadata": {
  "kernelspec": {
   "display_name": "augment",
   "language": "python",
   "name": "augmentation-project"
  },
  "language_info": {
   "codemirror_mode": {
    "name": "ipython",
    "version": 3
   },
   "file_extension": ".py",
   "mimetype": "text/x-python",
   "name": "python",
   "nbconvert_exporter": "python",
   "pygments_lexer": "ipython3",
   "version": "3.9.18"
  }
 },
 "nbformat": 4,
 "nbformat_minor": 5
}
