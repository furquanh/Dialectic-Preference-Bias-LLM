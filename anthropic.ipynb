{
 "cells": [
  {
   "cell_type": "code",
   "execution_count": 1,
   "id": "088813c6-6162-4c83-8c1e-4319a2b16644",
   "metadata": {},
   "outputs": [],
   "source": [
    "import pandas as pd\n",
    "import re\n",
    "from collections import Counter\n",
    "import os\n",
    "from openai import OpenAI\n",
    "import anthropic\n",
    "from groq import Groq\n",
    "from langchain_core.prompts import ChatPromptTemplate\n",
    "from langchain_core.pydantic_v1 import BaseModel, Field\n",
    "from langchain_openai import ChatOpenAI\n",
    "from langchain_anthropic import ChatAnthropic\n",
    "from langchain_groq import ChatGroq"
   ]
  },
  {
   "cell_type": "code",
   "execution_count": 2,
   "id": "ef8d3577-be65-4e0f-a7e7-fd28f44b8f78",
   "metadata": {},
   "outputs": [],
   "source": [
    "cache_dir = \"./cache/\"\n",
    "os.environ['TRANSFORMERS_CACHE'] = cache_dir\n",
    "os.environ['TOKENIZERS_PARALLELISM'] = \"false\""
   ]
  },
  {
   "cell_type": "code",
   "execution_count": 14,
   "id": "a3118107-9a29-4ad1-bc11-1865b9aac990",
   "metadata": {},
   "outputs": [
    {
     "ename": "NameError",
     "evalue": "name 'results_df' is not defined",
     "output_type": "error",
     "traceback": [
      "\u001b[0;31m---------------------------------------------------------------------------\u001b[0m",
      "\u001b[0;31mNameError\u001b[0m                                 Traceback (most recent call last)",
      "\u001b[0;32m/local/home/furquanh/tmp/ipykernel_3958204/1822323536.py\u001b[0m in \u001b[0;36m<module>\u001b[0;34m\u001b[0m\n\u001b[1;32m     68\u001b[0m \u001b[0;31m# Create a new DataFrame with the results\u001b[0m\u001b[0;34m\u001b[0m\u001b[0;34m\u001b[0m\u001b[0m\n\u001b[1;32m     69\u001b[0m \u001b[0;31m#results_df = pd.DataFrame(results, columns=['sentence', 'sentiment'])\u001b[0m\u001b[0;34m\u001b[0m\u001b[0;34m\u001b[0m\u001b[0m\n\u001b[0;32m---> 70\u001b[0;31m \u001b[0mresults_df\u001b[0m\u001b[0;34m.\u001b[0m\u001b[0mrename\u001b[0m\u001b[0;34m(\u001b[0m\u001b[0mcolumns\u001b[0m\u001b[0;34m=\u001b[0m\u001b[0;34m{\u001b[0m\u001b[0;34m'sentence'\u001b[0m\u001b[0;34m:\u001b[0m \u001b[0;34m'text'\u001b[0m\u001b[0;34m,\u001b[0m \u001b[0;34m'sentiment'\u001b[0m\u001b[0;34m:\u001b[0m \u001b[0;34m'anthropic_Haiku_provided_sentiment'\u001b[0m\u001b[0;34m}\u001b[0m\u001b[0;34m,\u001b[0m \u001b[0minplace\u001b[0m\u001b[0;34m=\u001b[0m\u001b[0;32mTrue\u001b[0m\u001b[0;34m)\u001b[0m\u001b[0;34m\u001b[0m\u001b[0;34m\u001b[0m\u001b[0m\n\u001b[0m\u001b[1;32m     71\u001b[0m \u001b[0;31m#\u001b[0m\u001b[0;34m\u001b[0m\u001b[0;34m\u001b[0m\u001b[0m\n\u001b[1;32m     72\u001b[0m \u001b[0;31m# Save the results to a new CSV file\u001b[0m\u001b[0;34m\u001b[0m\u001b[0;34m\u001b[0m\u001b[0m\n",
      "\u001b[0;31mNameError\u001b[0m: name 'results_df' is not defined"
     ]
    }
   ],
   "source": [
    "from typing import List, Optional\n",
    "\n",
    "from langchain_openai import ChatOpenAI\n",
    "from langchain_core.pydantic_v1 import BaseModel, Field\n",
    "from langchain_core.prompts import ChatPromptTemplate\n",
    "\n",
    "# Define the schema for sentiment analysis\n",
    "class SentimentAnalysisResponse(BaseModel):\n",
    "    sentiment: str = Field(description=\"The sentiment of the sentence (Positive, Negative, or Neutral)\")\n",
    "\n",
    "class Data(BaseModel):\n",
    "    \"\"\"Extracted data about sentences.\"\"\"\n",
    "    sentences: List[SentimentAnalysisResponse]\n",
    "\n",
    "# Define the prompt template\n",
    "chat_template = ChatPromptTemplate.from_messages(\n",
    "    [\n",
    "        (\n",
    "            \"system\",\n",
    "            \"\"\"Your task is to analyze the provided sentences written in African American English and identify the sentiment expressed by the author. \n",
    "            The sentiment should be classified as Positive, Negative, or Neutral. Reply back with just the sentiment.\"\"\"\n",
    "        ),\n",
    "        (\"user\", \"{text}\")\n",
    "    ]\n",
    ")\n",
    "\n",
    "anthropic_key = os.getenv(\"ANTHROPIC_API_KEY\")\n",
    "anthropic_model = ChatAnthropic(\n",
    "    model=\"claude-3-haiku-20240307\",\n",
    "    temperature=0,\n",
    "    timeout=None,\n",
    "    max_retries=2,\n",
    "    api_key=anthropic_key\n",
    ")\n",
    "\n",
    "\n",
    "# Create the runnable chain\n",
    "runnable = chat_template | anthropic_model.with_structured_output(schema=SentimentAnalysisResponse, method=\"json_mode\")\n",
    "\n",
    "def get_groq_label(sentences: str):\n",
    "\n",
    "    # Get the sentiment analysis from the model\n",
    "    response = runnable.invoke({\"text\": sentences})\n",
    "    #print(response.sentiment)\n",
    "    \n",
    "    return response.sentiment\n",
    "\n",
    "# Function to filter out problematic sentences\n",
    "def is_valid_sentence(sentence):\n",
    "    # Define a regex pattern to match problematic characters or structures\n",
    "    pattern = re.compile(r'[^\\x00-\\x7F]+|[\\x00-\\x1F\\x7F]')\n",
    "    return not pattern.search(sentence)\n",
    "\n",
    "\n",
    "# Read the dataset\n",
    "dataset = pd.read_csv('initial_2000_sentences.csv')\n",
    "\n",
    "# Filter out problematic sentences\n",
    "dataset['text'] = dataset['text'].apply(lambda x: x if is_valid_sentence(x) else None)\n",
    "dataset = dataset.dropna().reset_index(drop=True)\n",
    "\n",
    "batch_size = 5\n",
    "results = []\n",
    "\n",
    "for sentence in dataset['text'].tolist():\n",
    "    results.append(get_groq_label(sentence))\n",
    "\n",
    "# Create a new DataFrame with the results\n",
    "#results_df = pd.DataFrame(results, columns=['sentence', 'sentiment'])\n",
    "results_df.rename(columns={'sentence': 'text', 'sentiment': 'anthropic_Haiku_provided_sentiment'}, inplace=True)\n",
    "#\n",
    "# Save the results to a new CSV file\n",
    "#results_df.to_csv('anthropic_Haiku_labels.csv', index=False)\n",
    "\n",
    "#print(\"Sentiment analysis completed and saved to gpt3.5_labels.csv\")"
   ]
  },
  {
   "cell_type": "code",
   "execution_count": 15,
   "id": "c1498e23-a7dd-462d-8049-c1acf0ce5409",
   "metadata": {},
   "outputs": [
    {
     "data": {
      "text/plain": [
       "2000"
      ]
     },
     "execution_count": 15,
     "metadata": {},
     "output_type": "execute_result"
    }
   ],
   "source": [
    "len(results)"
   ]
  },
  {
   "cell_type": "code",
   "execution_count": 17,
   "id": "b2885539-d880-465a-8ac7-45057adb7d78",
   "metadata": {},
   "outputs": [
    {
     "data": {
      "text/html": [
       "<div>\n",
       "<style scoped>\n",
       "    .dataframe tbody tr th:only-of-type {\n",
       "        vertical-align: middle;\n",
       "    }\n",
       "\n",
       "    .dataframe tbody tr th {\n",
       "        vertical-align: top;\n",
       "    }\n",
       "\n",
       "    .dataframe thead th {\n",
       "        text-align: right;\n",
       "    }\n",
       "</style>\n",
       "<table border=\"1\" class=\"dataframe\">\n",
       "  <thead>\n",
       "    <tr style=\"text-align: right;\">\n",
       "      <th></th>\n",
       "      <th>sentences</th>\n",
       "      <th>sentiment</th>\n",
       "    </tr>\n",
       "  </thead>\n",
       "  <tbody>\n",
       "    <tr>\n",
       "      <th>0</th>\n",
       "      <td>Bitch cant get shit from me but bubble gum nd ...</td>\n",
       "      <td>Negative</td>\n",
       "    </tr>\n",
       "    <tr>\n",
       "      <th>1</th>\n",
       "      <td>@islandboi_B yes that's what's up. Nothin like...</td>\n",
       "      <td>Positive</td>\n",
       "    </tr>\n",
       "    <tr>\n",
       "      <th>2</th>\n",
       "      <td>Mixed huh !? Those black ass knees and elbows ...</td>\n",
       "      <td>Negative</td>\n",
       "    </tr>\n",
       "    <tr>\n",
       "      <th>3</th>\n",
       "      <td>The bul Mike James from @mavs ain't shit n he ...</td>\n",
       "      <td>Negative</td>\n",
       "    </tr>\n",
       "    <tr>\n",
       "      <th>4</th>\n",
       "      <td>It took for a whole stranger to tell me he PRO...</td>\n",
       "      <td>Positive</td>\n",
       "    </tr>\n",
       "  </tbody>\n",
       "</table>\n",
       "</div>"
      ],
      "text/plain": [
       "                                           sentences sentiment\n",
       "0  Bitch cant get shit from me but bubble gum nd ...  Negative\n",
       "1  @islandboi_B yes that's what's up. Nothin like...  Positive\n",
       "2  Mixed huh !? Those black ass knees and elbows ...  Negative\n",
       "3  The bul Mike James from @mavs ain't shit n he ...  Negative\n",
       "4  It took for a whole stranger to tell me he PRO...  Positive"
      ]
     },
     "execution_count": 17,
     "metadata": {},
     "output_type": "execute_result"
    }
   ],
   "source": [
    "results_df = pd.DataFrame({'sentences': dataset['text'], 'sentiment': results})\n",
    "results_df.head()"
   ]
  },
  {
   "cell_type": "code",
   "execution_count": 18,
   "id": "0321a428-a18d-41a6-9a03-435386bcfbc5",
   "metadata": {},
   "outputs": [
    {
     "data": {
      "text/plain": [
       "array(['Negative', 'Positive', 'Neutral', 'Mixed'], dtype=object)"
      ]
     },
     "execution_count": 18,
     "metadata": {},
     "output_type": "execute_result"
    }
   ],
   "source": [
    "results_df.sentiment.unique()"
   ]
  },
  {
   "cell_type": "code",
   "execution_count": 20,
   "id": "ab587c63-28ed-463b-9521-14638a8258b4",
   "metadata": {},
   "outputs": [],
   "source": [
    "results_df.to_csv('labeled/anthropic_Haiku.csv', index=None)"
   ]
  },
  {
   "cell_type": "markdown",
   "id": "df277b70-cfc8-4c61-aee3-5b8235300d87",
   "metadata": {},
   "source": [
    "## Conversion to SAE"
   ]
  },
  {
   "cell_type": "code",
   "execution_count": null,
   "id": "82615851-afd7-4e83-9d46-bc14fb6ee7d9",
   "metadata": {},
   "outputs": [],
   "source": []
  }
 ],
 "metadata": {
  "kernelspec": {
   "display_name": "Python 3 (ipykernel)",
   "language": "python",
   "name": "python3"
  },
  "language_info": {
   "codemirror_mode": {
    "name": "ipython",
    "version": 3
   },
   "file_extension": ".py",
   "mimetype": "text/x-python",
   "name": "python",
   "nbconvert_exporter": "python",
   "pygments_lexer": "ipython3",
   "version": "3.9.18"
  }
 },
 "nbformat": 4,
 "nbformat_minor": 5
}
