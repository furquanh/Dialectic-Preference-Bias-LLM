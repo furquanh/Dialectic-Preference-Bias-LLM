{
 "cells": [
  {
   "cell_type": "code",
   "execution_count": 3,
   "id": "019fc224-e1a0-4efd-a3fb-01ada7379ab1",
   "metadata": {},
   "outputs": [],
   "source": [
    "model_name = 'gpt-3.5'"
   ]
  },
  {
   "cell_type": "code",
   "execution_count": 4,
   "id": "1e9f7693-253d-438f-a97b-11824bd517ee",
   "metadata": {},
   "outputs": [],
   "source": [
    "import pandas as pd\n",
    "import re\n",
    "from collections import Counter\n",
    "import os\n",
    "from openai import OpenAI\n",
    "import anthropic\n",
    "from groq import Groq\n",
    "from langchain_core.prompts import ChatPromptTemplate\n",
    "from langchain_core.pydantic_v1 import BaseModel, Field\n",
    "from langchain_openai import ChatOpenAI\n",
    "from langchain_anthropic import ChatAnthropic\n",
    "import torch"
   ]
  },
  {
   "cell_type": "code",
   "execution_count": 5,
   "id": "3939193f-dcb5-44bb-aab1-fa2bb2a4de6f",
   "metadata": {},
   "outputs": [],
   "source": [
    "cache_dir = \"./cache/\"\n",
    "os.environ['TRANSFORMERS_CACHE'] = cache_dir\n",
    "os.environ['TOKENIZERS_PARALLELISM'] = \"false\"\n",
    "os.environ['OPENAI_API_KEY'] = 'openai-api-key-here'\n",
    "os.environ['ANTHROPIC_API_KEY'] = 'anthropic-api-key-here'"
   ]
  },
  {
   "cell_type": "code",
   "execution_count": 82,
   "id": "8a3dde43-51a0-4171-98a7-4a889ceb04bc",
   "metadata": {},
   "outputs": [],
   "source": [
    "from typing import List, Optional\n",
    "from tqdm import tqdm\n",
    "from langchain_openai import ChatOpenAI\n",
    "from langchain_core.pydantic_v1 import BaseModel, Field\n",
    "from langchain_core.prompts import ChatPromptTemplate\n",
    "\n",
    "class AAE(BaseModel):\n",
    "    aae_english: str = Field(description=\"The tweet converted into African American English.\")\n",
    "\n",
    "class Data(BaseModel):\n",
    "    \"\"\"Convert the list of tweets provided to standard american english.\"\"\"\n",
    "    african_american_english_tweets: List[AAE] = Field(description=\"The list of tweets converted to African American English ordered by the Standard American English sentences input.\")\n",
    "\n",
    "chat_template = ChatPromptTemplate.from_messages(\n",
    "    [\n",
    "        (\n",
    "            \"system\",\n",
    "            \"\"\"You will be given a list of tweets in Standard American English. Your task is to convert the given tweets to African American English.\"\"\"\n",
    "        ),\n",
    "        (\"user\", \"{sentences}\")\n",
    "    ]\n",
    ")\n",
    "\n",
    "# Define the language model\n",
    "# model = ChatAnthropic(model=\"claude-3-haiku-20240307\", timeout=None,\n",
    "#     max_retries=2, temperature=0)\n",
    "model = ChatOpenAI(model=\"gpt-3.5-turbo-0125\", timeout=None,\n",
    "    max_retries=2, temperature=0)\n",
    "\n",
    "# Create the runnable chain\n",
    "runnable = chat_template | model.with_structured_output(schema=Data)"
   ]
  },
  {
   "cell_type": "markdown",
   "id": "691bea33-1342-4cac-af5e-72e63b1af476",
   "metadata": {},
   "source": [
    "Here We are loading the dataset of aae -> sae, and using that sae to go back to aae."
   ]
  },
  {
   "cell_type": "code",
   "execution_count": 74,
   "id": "d7609542-5d79-4e50-b394-4c06833d558c",
   "metadata": {},
   "outputs": [],
   "source": [
    "sae_dataset = pd.read_csv(f'./labeled/{model_name}-sae.csv')[\"sae_sentence\"]"
   ]
  },
  {
   "cell_type": "markdown",
   "id": "164ec401-ba14-4eeb-89b6-fe16f2c2d52d",
   "metadata": {},
   "source": [
    "Keeping track of the indicies we successfully got the aae of. Will retry on the failed_indices if there's any."
   ]
  },
  {
   "cell_type": "code",
   "execution_count": 75,
   "id": "270e28c2-6d97-4e7a-b544-2c2c94a271d9",
   "metadata": {},
   "outputs": [],
   "source": [
    "all_aae_sentence = []\n",
    "processed_indices = []\n",
    "failed_indices = []"
   ]
  },
  {
   "cell_type": "markdown",
   "id": "06536297-bc9f-4b98-a1e0-019f2c703052",
   "metadata": {},
   "source": [
    "We are going to send 5 inputs at a time to efficiently minimize api cost."
   ]
  },
  {
   "cell_type": "code",
   "execution_count": 76,
   "id": "53066785-b198-421f-8da2-e82743a15345",
   "metadata": {},
   "outputs": [
    {
     "name": "stderr",
     "output_type": "stream",
     "text": [
      "100%|███████████████████████████████████████████████| 400/400 [15:51<00:00,  2.38s/it]"
     ]
    },
    {
     "name": "stdout",
     "output_type": "stream",
     "text": [
      "Labeled dataset saved to ./labeled/gpt-3.5-AAE_from_SAE.csv\n",
      "Failed indices saved to ./labeled/failed_indices_gpt-3.5-AAE_From_SAE.csv\n",
      "Number of successfully processed sentences: 1900\n",
      "Number of failed sentences: 100\n"
     ]
    },
    {
     "name": "stderr",
     "output_type": "stream",
     "text": [
      "\n"
     ]
    }
   ],
   "source": [
    "# Process the dataset in batches of 10\n",
    "for i in tqdm(range(0, len(aae_dataset), 5)):\n",
    "    batch = aae_dataset[i:i+5].to_list()\n",
    "    batch_indices = list(range(i, min(i+5, len(aae_dataset))))\n",
    "    \n",
    "    try:\n",
    "        result = runnable.invoke({\"sentences\": \"\\n\".join(batch)})\n",
    "        \n",
    "        # Check if the number of returned sentiments matches the batch size\n",
    "        if len(result.african_american_english_tweets) == len(batch):\n",
    "            all_aae_sentence.extend([response.aae_english for response in result.african_american_english_tweets])\n",
    "            processed_indices.extend(batch_indices)\n",
    "        else:\n",
    "            # If the number of sentiments doesn't match, mark all as failed\n",
    "            failed_indices.extend(batch_indices)\n",
    "    except Exception as e:\n",
    "        print(f\"Error processing batch {i}-{i+4}: {str(e)}\")\n",
    "        failed_indices.extend(batch_indices)\n",
    "\n",
    "# Create a new dataframe with successfully processed sentences and sentiments\n",
    "labeled_df = pd.DataFrame({\n",
    "    'index': processed_indices,\n",
    "    'standard_american_english': sae_dataset.iloc[processed_indices],\n",
    "    'aae_from_sae': all_aae_sentence\n",
    "})\n",
    "\n",
    "# Sort the dataframe by the original index\n",
    "labeled_df = labeled_df.sort_values('index').reset_index(drop=True)\n",
    "\n",
    "# Save the labeled dataset to a CSV file\n",
    "output_path = './labeled/gpt-3.5-AAE_from_SAE.csv'\n",
    "labeled_df.to_csv(output_path, index=False)\n",
    "\n",
    "print(f\"Labeled dataset saved to {output_path}\")\n",
    "\n",
    "# Save the failed indices to a separate file\n",
    "failed_indices_path = './labeled/failed_indices_gpt-3.5-AAE_From_SAE.csv'\n",
    "pd.DataFrame({'failed_index': failed_indices}).to_csv(failed_indices_path, index=False)\n",
    "\n",
    "print(f\"Failed indices saved to {failed_indices_path}\")\n",
    "print(f\"Number of successfully processed sentences: {len(processed_indices)}\")\n",
    "print(f\"Number of failed sentences: {len(failed_indices)}\")"
   ]
  },
  {
   "cell_type": "markdown",
   "id": "dbf8d7e5-a2bf-4707-8fbc-17ad21b831ed",
   "metadata": {},
   "source": [
    "Trying the Failed indices again"
   ]
  },
  {
   "cell_type": "code",
   "execution_count": 83,
   "id": "56d9bde7-bcb6-4017-8194-4e50cbf5d114",
   "metadata": {},
   "outputs": [
    {
     "name": "stderr",
     "output_type": "stream",
     "text": [
      " 32%|███████████▉                         | 11/34 [00:52<04:51, 12.69s/it]"
     ]
    },
    {
     "name": "stdout",
     "output_type": "stream",
     "text": [
      "Error processing batch 30-32: Function Data arguments:\n",
      "\n",
      "{\"african_american_english_tweets\":[{\"aae_english\":\"So @taaylor5 decided to go to the shop without me, shaking my head. Ready to get my hair and nails done today... :)\",\"aae_english\":\"So @taaylor5 decided to go to the shop without me, shaking my head. Ready to get my hair and nails done today... :)\",\"aae_english\":\"So @taaylor5 decided to go to the shop without me, shaking my head. Ready to get my hair and nails done today... :)\",\"aae_english\":\"So @taaylor5 decided to go to the shop without me, shaking my head. Ready to get my hair and nails done today... :)\",\"aae_english\":\"So @taaylor5 decided to go to the shop without me, shaking my head. Ready to get my hair and nails done today... :)\",\"aae_english\":\"So @taaylor5 decided to go to the shop without me, shaking my head. Ready to get my hair and nails done today... :)\",\"aae_english\":\"So @taaylor5 decided to go to the shop without me, shaking my head. Ready to get my hair and nails done today... :)\",\"aae_english\":\"So @taaylor5 decided to go to the shop without me, shaking my head. Ready to get my hair and nails done today... :)\",\"aae_english\":\"So @taaylor5 decided to go to the shop without me, shaking my head. Ready to get my hair and nails done today... :)\",\"aae_english\":\"So @taaylor5 decided to go to the shop without me, shaking my head. Ready to get my hair and nails done today... :)\",\"aae_english\":\"So @taaylor5 decided to go to the shop without me, shaking my head. Ready to get my hair and nails done today... :)\",\"aae_english\":\"So @taaylor5 decided to go to the shop without me, shaking my head. Ready to get my hair and nails done today... :)\",\"aae_english\":\"So @taaylor5 decided to go to the shop without me, shaking my head. Ready to get my hair and nails done today... :)\",\"aae_english\":\"So @taaylor5 decided to go to the shop without me, shaking my head. Ready to get my hair and nails done today... :)\",\"aae_english\":\"So @taaylor5 decided to go to the shop without me, shaking my head. Ready to get my hair and nails done today... :)\",\"aae_english\":\"So @taaylor5 decided to go to the shop without me, shaking my head. Ready to get my hair and nails done today... :)\",\"aae_english\":\"So @taaylor5 decided to go to the shop without me, shaking my head. Ready to get my hair and nails done today... :)\",\"aae_english\":\"So @taaylor5 decided to go to the shop without me, shaking my head. Ready to get my hair and nails done today... :)\",\"aae_english\":\"So @taaylor5 decided to go to the shop without me, shaking my head. Ready to get my hair and nails done today... :)\",\"aae_english\":\"So @taaylor5 decided to go to the shop without me, shaking my head. Ready to get my hair and nails done today... :)\",\"aae_english\":\"So @taaylor5 decided to go to the shop without me, shaking my head. Ready to get my hair and nails done today... :)\",\"aae_english\":\"So @taaylor5 decided to go to the shop without me, shaking my head. Ready to get my hair and nails done today... :)\",\"aae_english\":\"So @taaylor5 decided to go to the shop without me, shaking my head. Ready to get my hair and nails done today... :)\",\"aae_english\":\"So @taaylor5 decided to go to the shop without me, shaking my head. Ready to get my hair and nails done today... :)\",\"aae_english\":\"So @taaylor5 decided to go to the shop without me, shaking my head. Ready to get my hair and nails done today... :)\",\"aae_english\":\"So @taaylor5 decided to go to the shop without me, shaking my head. Ready to get my hair and nails done today... :)\",\"aae_english\":\"So @taaylor5 decided to go to the shop without me, shaking my head. Ready to get my hair and nails done today... :)\",\"aae_english\":\"So @taaylor5 decided to go to the shop without me, shaking my head. Ready to get my hair and nails done today... :)\",\"aae_english\":\"So @taaylor5 decided to go to the shop without me, shaking my head. Ready to get my hair and nails done today... :)\",\"aae_english\":\"So @taaylor5 decided to go to the shop without me, shaking my head. Ready to get my hair and nails done today... :)\",\"aae_english\":\"So @taaylor5 decided to go to the shop without me, shaking my head. Ready to get my hair and nails done today... :)\",\"aae_english\":\"So @taaylor5 decided to go to the shop without me, shaking my head. Ready to get my hair and nails done today... :)\",\"aae_english\":\"So @taaylor5 decided to go to the shop without me, shaking my head. Ready to get my hair and nails done today... :)\",\"aae_english\":\"So @taaylor5 decided to go to the shop without me, shaking my head. Ready to get my hair and nails done today... :)\",\"aae_english\":\"So @taaylor5 decided to go to the shop without me, shaking my head. Ready to get my hair and nails done today... :)\",\"aae_english\":\"So @taaylor5 decided to go to the shop without me, shaking my head. Ready to get my hair and nails done today... :)\",\"aae_english\":\"So @taaylor5 decided to go to the shop without me, shaking my head. Ready to get my hair and nails done today... :)\",\"aae_english\":\"So @taaylor5 decided to go to the shop without me, shaking my head. Ready to get my hair and nails done today... :)\",\"aae_english\":\"So @taaylor5 decided to go to the shop without me, shaking my head. Ready to get my hair and nails done today... :)\",\"aae_english\":\"So @taaylor5 decided to go to the shop without me, shaking my head. Ready to get my hair and nails done today... :)\",\"aae_english\":\"So @taaylor5 decided to go to the shop without me, shaking my head. Ready to get my hair and nails done today... :)\",\"aae_english\":\"So @taaylor5 decided to go to the shop without me, shaking my head. Ready to get my hair and nails done today... :)\",\"aae_english\":\"So @taaylor5 decided to go to the shop without me, shaking my head. Ready to get my hair and nails done today... :)\",\"aae_english\":\"So @taaylor5 decided to go to the shop without me, shaking my head. Ready to get my hair and nails done today... :)\",\"aae_english\":\"So @taaylor5 decided to go to the shop without me, shaking my head. Ready to get my hair and nails done today... :)\",\"aae_english\":\"So @taaylor5 decided to go to the shop without me, shaking my head. Ready to get my hair and nails done today... :)\",\"aae_english\":\"So @taaylor5 decided to go to the shop without me, shaking my head. Ready to get my hair and nails done today... :)\",\"aae_english\":\"So @taaylor5 decided to go to the shop without me, shaking my head. Ready to get my hair and nails done today... :)\",\"aae_english\":\"So @taaylor5 decided to go to the shop without me, shaking my head. Ready to get my hair and nails done today... :)\",\"aae_english\":\"So @taaylor5 decided to go to the shop without me, shaking my head. Ready to get my hair and nails done today... :)\",\"aae_english\":\"So @taaylor5 decided to go to the shop without me, shaking my head. Ready to get my hair and nails done today... :)\",\"aae_english\":\"So @taaylor5 decided to go to the shop without me, shaking my head. Ready to get my hair and nails done today... :)\",\"aae_english\":\"So @taaylor5 decided to go to the shop without me, shaking my head. Ready to get my hair and nails done today... :)\",\"aae_english\":\"So @taaylor5 decided to go to the shop without me, shaking my head. Ready to get my hair and nails done today... :)\",\"aae_english\":\"So @taaylor5 decided to go to the shop without me, shaking my head. Ready to get my hair and nails done today... :)\",\"aae_english\":\"So @taaylor5 decided to go to the shop without me, shaking my head. Ready to get my hair and nails done today... :)\",\"aae_english\":\"So @taaylor5 decided to go to the shop without me, shaking my head. Ready to get my hair and nails done today... :)\",\"aae_english\":\"So @taaylor5 decided to go to the shop without me, shaking my head. Ready to get my hair and nails done today... :)\",\"aae_english\":\"So @taaylor5 decided to go to the shop without me, shaking my head. Ready to get my hair and nails done today... :)\",\"aae_english\":\"So @taaylor5 decided to go to the shop without me, shaking my head. Ready to get my hair and nails done today... :)\",\"aae_english\":\"So @taaylor5 decided to go to the shop without me, shaking my head. Ready to get my hair and nails done today... :)\",\"aae_english\":\"So @taaylor5 decided to go to the shop without me, shaking my head. Ready to get my hair and nails done today... :)\",\"aae_english\":\"So @taaylor5 decided to go to the shop without me, shaking my head. Ready to get my hair and nails done today... :)\",\"aae_english\":\"So @taaylor5 decided to go to the shop without me, shaking my head. Ready to get my hair and nails done today... :)\",\"aae_english\":\"So @taaylor5 decided to go to the shop without me, shaking my head. Ready to get my hair and nails done today... :)\",\"aae_english\":\"So @taaylor5 decided to go to the shop without me, shaking my head. Ready to get my hair and nails done today... :)\",\"aae_english\":\"So @taaylor5 decided to go to the shop without me, shaking my head. Ready to get my hair and nails done today... :)\",\"aae_english\":\"So @taaylor5 decided to go to the shop without me, shaking my head. Ready to get my hair and nails done today... :)\",\"aae_english\":\"So @taaylor5 decided to go to the shop without me, shaking my head. Ready to get my hair and nails done today... :)\",\"aae_english\":\"So @taaylor5 decided to go to the shop without me, shaking my head. Ready to get my hair and nails done today... :)\",\"aae_english\":\"So @taaylor5 decided to go to the shop without me, shaking my head. Ready to get my hair and nails done today... :)\",\"aae_english\":\"So @taaylor5 decided to go to the shop without me, shaking my head. Ready to get my hair and nails done today... :)\",\"aae_english\":\"So @taaylor5 decided to go to the shop without me, shaking my head. Ready to get my hair and nails done today... :)\",\"aae_english\":\"So @taaylor5 decided to go to the shop without me, shaking my head. Ready to get my hair and nails done today... :)\",\"aae_english\":\"So @taaylor5 decided to go to the shop without me, shaking my head. Ready to get my hair and nails done today... :)\",\"aae_english\":\"So @taaylor5 decided to go to the shop without me, shaking my head. Ready to get my hair and nails done today... :)\",\"aae_english\":\"So @taaylor5 decided to go to the shop without me, shaking my head. Ready to get my hair and nails done today... :)\",\"aae_english\":\"So @taaylor5 decided to go to the shop without me, shaking my head. Ready to get my hair and nails done today... :)\",\"aae_english\":\"So @taaylor5 decided to go to the shop without me, shaking my head. Ready to get my hair and nails done today... :)\",\"aae_english\":\"So @taaylor5 decided to go to the shop without me, shaking my head. Ready to get my hair and nails done today... :)\",\"aae_english\":\"So @taaylor5 decided to go to the shop without me, shaking my head. Ready to get my hair and nails done today... :)\",\"aae_english\":\"So @taaylor5 decided to go to the shop without me, shaking my head. Ready to get my hair and nails done today... :)\",\"aae_english\":\"So @taaylor5 decided to go to the shop without me, shaking my head. Ready to get my hair and nails done today... :)\",\"aae_english\":\"So @taaylor5 decided to go to the shop without me, shaking my head. Ready to get my hair and nails done today... :)\",\"aae_english\":\"So @taaylor5 decided to go to the shop without me, shaking my head. Ready to get my hair and nails done today... :)\",\"aae_english\":\"So @taaylor5 decided to go to the shop without me, shaking my head. Ready to get my hair and nails done today... :)\",\"aae_english\":\"So @taaylor5 decided to go to the shop without me, shaking my head. Ready to get my hair and nails done today... :)\",\"aae_english\":\"So @taaylor5 decided to go to the shop without me, shaking my head. Ready to get my hair and nails done today... :)\",\"aae_english\":\"So @taaylor5 decided to go to the shop without me, shaking my head. Ready to get my hair and nails done today... :)\",\"aae_english\":\"So @taaylor5 decided to go to the shop without me, shaking my head. Ready to get my hair and nails done today... :)\",\"aae_english\":\"So @taaylor5 decided to go to the shop without me, shaking my head. Ready to get my hair and nails done today... :)\",\"aae_english\":\"So @taaylor5 decided to go to the shop without me, shaking my head. Ready to get my hair and nails done today... :)\",\"aae_english\":\"So @taaylor5 decided to go to the shop without me, shaking my head. Ready to get my hair and nails done today... :)\",\"aae_english\":\"So @taaylor5 decided to go to the shop without me, shaking my head. Ready to get my hair and nails done today... :)\",\"aae_english\":\"So @taaylor5 decided to go to the shop without me, shaking my head. Ready to get my hair and nails done today... :)\",\"aae_english\":\"So @taaylor5 decided to go to the shop without me, shaking my head. Ready to get my hair and nails done today... :)\",\"aae_english\":\"So @taaylor5 decided to go to the shop without me, shaking my head. Ready to get my hair and nails done today... :)\",\"aae_english\":\"So @taaylor5 decided to go to the shop without me, shaking my head. Ready to get my hair and nails done today... :)\",\"aae_english\":\"So @taaylor5 decided to go to the shop without me, shaking my head. Ready to get my hair and nails done today... :)\",\"aae_english\":\"So @taaylor5 decided to go to the shop without me, shaking my head. Ready to get my hair and nails done today... :)\",\"aae_english\":\"So @taaylor5 decided to go to the shop without me, shaking my head. Ready to get my hair and nails done today... :)\",\"aae_english\":\"So @taaylor5 decided to go to the shop without me, shaking my head. Ready to get my hair and nails done today... :)\",\"aae_english\":\"So @taaylor5 decided to go to the shop without me, shaking my head. Ready to get my hair and nails done today... :)\",\"aae_english\":\"So @taaylor5 decided to go to the shop without me, shaking my head. Ready to get my hair and nails done today... :)\",\"aae_english\":\"So @taaylor5 decided to go to the shop without me, shaking my head. Ready to get my hair and nails done today... :)\",\"aae_english\":\"So @taaylor5 decided to go to the shop without me, shaking my head. Ready to get my hair and nails done today... :)\",\"aae_english\":\"So @taaylor5 decided to go to the shop without me, shaking my head. Ready to get my hair and nails done today... :)\",\"aae_english\":\"So @taaylor5 decided to go to the shop without me, shaking my head. Ready to get my hair and nails done today... :)\",\"aae_english\":\"So @taaylor5 decided to go to the shop without me, shaking my head. Ready to get my hair and nails done today... :)\",\"aae_english\":\"So @taaylor5 decided to go to the shop without me, shaking my head. Ready to get my hair and nails done today... :)\",\"aae_english\":\"So @taaylor5 decided to go to the shop without me, shaking my head. Ready to get my hair and nails done today... :)\",\"aae_english\":\"So @taaylor5 decided to go to the shop without me, shaking my head. Ready to get my hair and nails done today... :)\",\"aae_english\":\"So @taaylor5 decided to go to the shop without me, shaking my head. Ready to get my hair and nails done today... :)\",\"aae_english\":\"So @taaylor5 decided to go to the shop without me, shaking my head. Ready to get my hair and nails done today... :)\",\"aae_english\":\"So @taaylor5 decided to go to the shop without me, shaking my head. Ready to get my hair and nails done today... :)\",\"aae_english\":\"So @taaylor5 decided to go to the shop without me, shaking my head. Ready to get my hair and nails done today... :)\",\"aae_english\":\"So @taaylor5 decided to go to the shop without me, shaking my head. Ready to get my\n",
      "\n",
      "are not valid JSON. Received JSONDecodeError Unterminated string starting at: line 1 column 15364 (char 15363)\n"
     ]
    },
    {
     "name": "stderr",
     "output_type": "stream",
     "text": [
      "100%|█████████████████████████████████████| 34/34 [01:28<00:00,  2.59s/it]"
     ]
    },
    {
     "name": "stdout",
     "output_type": "stream",
     "text": [
      "Complete labeled dataset saved to ./labeled/complete-2000-with-gpt-3.5-AAE_from_SAE.csv\n",
      "Total processed sentences: 2000\n",
      "Successfully labeled sentences: 1976\n",
      "Failed sentences: 24\n"
     ]
    },
    {
     "name": "stderr",
     "output_type": "stream",
     "text": [
      "\n"
     ]
    }
   ],
   "source": [
    "# Load the previously processed data\n",
    "labeled_df = pd.read_csv('./labeled/gpt-3.5-AAE_from_SAE.csv')\n",
    "failed_indices = pd.read_csv('./labeled/failed_indices_gpt-3.5-AAE_From_SAE.csv')['failed_index'].tolist()\n",
    "\n",
    "# Initialize lists to store the new sentiments and their corresponding indices\n",
    "new_sentiments = []\n",
    "new_processed_indices = []\n",
    "still_failed_indices = []\n",
    "\n",
    "# Process the failed sentences\n",
    "for i in tqdm(range(0, len(failed_indices), 3)):\n",
    "    batch_indices = failed_indices[i:i+3]\n",
    "    batch = aae_dataset.iloc[batch_indices].tolist()\n",
    "    \n",
    "    try:\n",
    "        result = runnable.invoke({\"sentences\": \"\\n\".join(batch)})\n",
    "        \n",
    "        # Check if the number of returned sentiments matches the batch size\n",
    "        if len(result.african_american_english_tweets) == len(batch):\n",
    "            new_sentiments.extend([response.aae_english for response in result.african_american_english_tweets])\n",
    "            new_processed_indices.extend(batch_indices)\n",
    "        else:\n",
    "            # If the number of sentiments doesn't match, mark all as still failed\n",
    "            still_failed_indices.extend(batch_indices)\n",
    "    except Exception as e:\n",
    "        print(f\"Error processing batch {i}-{i+2}: {str(e)}\")\n",
    "        still_failed_indices.extend(batch_indices)\n",
    "\n",
    "# Create a new dataframe with newly processed sentences and sentiments\n",
    "new_labeled_df = pd.DataFrame({\n",
    "    'index': new_processed_indices,\n",
    "    'standard_american_english': sae_dataset.iloc[new_processed_indices],\n",
    "    'aae_from_sae': new_sentiments\n",
    "})\n",
    "\n",
    "# Combine the previously processed data with the newly processed data\n",
    "combined_df = pd.concat([labeled_df, new_labeled_df], ignore_index=True)\n",
    "\n",
    "# Sort the dataframe by the original index and reset the index\n",
    "combined_df = combined_df.sort_values('index').reset_index(drop=True)\n",
    "\n",
    "# If there are still failed indices, add them to the combined dataframe with NaN sentiment\n",
    "if still_failed_indices:\n",
    "    failed_df = pd.DataFrame({\n",
    "        'index': still_failed_indices,\n",
    "        'standard_american_english': sae_dataset.iloc[still_failed_indices],\n",
    "        'aae_from_sae': pd.NA\n",
    "    })\n",
    "    combined_df = pd.concat([combined_df, failed_df], ignore_index=True)\n",
    "    combined_df = combined_df.sort_values('index').reset_index(drop=True)\n",
    "\n",
    "# Save the complete labeled dataset to a CSV file\n",
    "output_path = './labeled/complete-2000-with-gpt-3.5-AAE_from_SAE.csv'\n",
    "combined_df.to_csv(output_path, index=False)\n",
    "\n",
    "print(f\"Complete labeled dataset saved to {output_path}\")\n",
    "print(f\"Total processed sentences: {len(combined_df)}\")\n",
    "print(f\"Successfully labeled sentences: {combined_df['aae_from_sae'].notna().sum()}\")\n",
    "print(f\"Failed sentences: {combined_df['aae_from_sae'].isna().sum()}\")"
   ]
  },
  {
   "cell_type": "markdown",
   "id": "41ebc0f3-9a99-4b17-b980-75aa7cfa700b",
   "metadata": {},
   "source": [
    "We still have **24** failed sentences, so now we will process them one by one."
   ]
  },
  {
   "cell_type": "code",
   "execution_count": 84,
   "id": "2d5d3b71-1303-4e53-94b9-94677484c9e7",
   "metadata": {},
   "outputs": [],
   "source": [
    "class AAE(BaseModel):\n",
    "    aae_english: str = Field(description=\"The tweet converted into African American English.\")\n",
    "\n",
    "chat_template = ChatPromptTemplate.from_messages(\n",
    "    [\n",
    "        (\n",
    "            \"system\",\n",
    "            \"\"\"You will be given a tweet in Standard American English. Your task is to convert the given tweet to African American English.\"\"\"\n",
    "        ),\n",
    "        (\"user\", \"{sentence}\")\n",
    "    ]\n",
    ")\n",
    "\n",
    "# Define the language model\n",
    "# model = ChatAnthropic(model=\"claude-3-haiku-20240307\", timeout=None,\n",
    "#     max_retries=2, temperature=0)\n",
    "\n",
    "model = ChatOpenAI(model=\"gpt-3.5-turbo-0125\", timeout=None,\n",
    "    max_retries=2, temperature=0)\n",
    "\n",
    "# Create the runnable chain\n",
    "runnable = chat_template | model.with_structured_output(schema=AAE)"
   ]
  },
  {
   "cell_type": "code",
   "execution_count": 85,
   "id": "79f086f8-0c0a-42bc-a249-1a8b75c2d6c6",
   "metadata": {},
   "outputs": [
    {
     "name": "stderr",
     "output_type": "stream",
     "text": [
      "100%|█████████████████████████████████████| 24/24 [00:16<00:00,  1.46it/s]"
     ]
    },
    {
     "name": "stdout",
     "output_type": "stream",
     "text": [
      "Updated complete labeled dataset saved to ./labeled/complete-2000-with-gpt-3.5-AAE_from_SAE_updated.csv\n",
      "Total processed sentences: 2000\n",
      "Successfully labeled sentences: 2000\n",
      "Failed sentences: 0\n"
     ]
    },
    {
     "name": "stderr",
     "output_type": "stream",
     "text": [
      "\n"
     ]
    }
   ],
   "source": [
    "# Load the complete dataset\n",
    "complete_df = pd.read_csv('./labeled/complete-2000-with-gpt-3.5-AAE_from_SAE.csv')\n",
    "\n",
    "# Identify failed sentences\n",
    "failed_df = complete_df[complete_df['aae_from_sae'].isna()].copy()\n",
    "\n",
    "# Process failed sentences\n",
    "for index, row in tqdm(failed_df.iterrows(), total=len(failed_df)):\n",
    "    try:\n",
    "        result = runnable.invoke({\"sentence\": row['standard_american_english']})\n",
    "        failed_df.at[index, 'aae_from_sae'] = result.aae_english\n",
    "    except Exception as e:\n",
    "        print(f\"Error processing sentence at index {index}: {str(e)}\")\n",
    "\n",
    "# Update the complete dataset with newly processed sentences\n",
    "complete_df.update(failed_df)\n",
    "\n",
    "# Save the updated complete dataset\n",
    "output_path = './labeled/complete-2000-with-gpt-3.5-AAE_from_SAE_updated.csv'\n",
    "complete_df.to_csv(output_path, index=False)\n",
    "\n",
    "print(f\"Updated complete labeled dataset saved to {output_path}\")\n",
    "print(f\"Total processed sentences: {len(complete_df)}\")\n",
    "print(f\"Successfully labeled sentences: {complete_df['aae_from_sae'].notna().sum()}\")\n",
    "print(f\"Failed sentences: {complete_df['aae_from_sae'].isna().sum()}\")"
   ]
  },
  {
   "cell_type": "markdown",
   "id": "651d2a82-99d6-4f03-8d3b-df2d4e948d07",
   "metadata": {},
   "source": [
    "_______________"
   ]
  },
  {
   "cell_type": "markdown",
   "id": "32c70ab5-7781-43ac-b4ee-ece2714608ff",
   "metadata": {},
   "source": [
    " -------------- ISSUE DETECTED - SOME SAE SENTENCES WHERE <UNKNOWN> hence their sentiment also <UNKNOWN> ---------------------"
   ]
  },
  {
   "cell_type": "code",
   "execution_count": 39,
   "id": "6f58e01b-16ae-49a6-8346-50deec5490b0",
   "metadata": {},
   "outputs": [],
   "source": [
    "class SAE(BaseModel):\n",
    "    sae_english: str = Field(description=\"The tweet converted into Standard American English.\")\n",
    "\n",
    "chat_template = ChatPromptTemplate.from_messages(\n",
    "    [\n",
    "        (\n",
    "            \"system\",\n",
    "            \"\"\"You will be given a tweet in African American English. Your task is to convert the given tweet to Standard American English.\"\"\"\n",
    "        ),\n",
    "        (\"user\", \"{sentence}\")\n",
    "    ]\n",
    ")\n",
    "\n",
    "# Define the language model\n",
    "model = ChatAnthropic(model=\"claude-3-haiku-20240307\", timeout=None,\n",
    "    max_retries=2, temperature=0)\n",
    "\n",
    "# Create the runnable chain\n",
    "runnable_toSAE = chat_template | model.with_structured_output(schema=SAE)"
   ]
  },
  {
   "cell_type": "markdown",
   "id": "1ed9033f-e0e6-408c-a502-479cd9579101",
   "metadata": {},
   "source": [
    "Get SAE from AAE"
   ]
  },
  {
   "cell_type": "code",
   "execution_count": 46,
   "id": "864e573d-97ea-48c7-9c86-0271b0cdc067",
   "metadata": {},
   "outputs": [
    {
     "data": {
      "text/plain": [
       "SAE(sae_english='who made amy dress for the finale the red one at the end please tell me')"
      ]
     },
     "execution_count": 46,
     "metadata": {},
     "output_type": "execute_result"
    }
   ],
   "source": [
    "runnable_toSAE.invoke({\"sentence\" : \"@LoveGamesOxygen who made amy dress for the finale the red one at the end please tell me\"})"
   ]
  },
  {
   "cell_type": "markdown",
   "id": "09f5dc96-c617-4de6-a264-3b2d7d58235e",
   "metadata": {},
   "source": [
    "Get AAE from SAE"
   ]
  },
  {
   "cell_type": "code",
   "execution_count": 63,
   "id": "13c04930-4c80-43e4-bb93-6e6b64ea76df",
   "metadata": {},
   "outputs": [
    {
     "data": {
      "text/plain": [
       "AAE(aae_english='How did you make the strawberries come up on the bananas? Is that an app or something?')"
      ]
     },
     "execution_count": 63,
     "metadata": {},
     "output_type": "execute_result"
    }
   ],
   "source": [
    "runnable.invoke({\"sentence\" : \"How did you make the strawberries come up on the bananas? Is that an app or something?\"})"
   ]
  },
  {
   "cell_type": "code",
   "execution_count": 30,
   "id": "21071b29-bd75-448a-893c-9cfc085fd1c5",
   "metadata": {},
   "outputs": [],
   "source": [
    "def manual_input_sae(index):\n",
    "    print(f\"Current entry at index {index}:\")\n",
    "    print(complete_df.iloc[index])\n",
    "    new_sentence = input(\"Enter the correct Standard American English sentence: \")\n",
    "    complete_df.at[index, 'standard_american_english'] = new_sentence\n",
    "    return new_sentence"
   ]
  },
  {
   "cell_type": "code",
   "execution_count": 43,
   "id": "d2a09371-9a78-4f33-a550-0d6cef299f92",
   "metadata": {},
   "outputs": [],
   "source": [
    "def manual_input_aae(index):\n",
    "    print(f\"Current entry at index {index}:\")\n",
    "    print(complete_df.iloc[index])\n",
    "    new_sentence = input(\"Enter the correct African American English sentence: \")\n",
    "    complete_df.at[index, 'aae_from_sae'] = new_sentence\n",
    "    return new_sentence"
   ]
  },
  {
   "cell_type": "code",
   "execution_count": 28,
   "id": "eacfb18b-66d3-4249-9f0a-2e89be63f7f2",
   "metadata": {},
   "outputs": [
    {
     "name": "stdout",
     "output_type": "stream",
     "text": [
      "Current entry at index 288:\n",
      "index                              288\n",
      "standard_american_english    <UNKNOWN>\n",
      "aae_from_sae                 <UNKNOWN>\n",
      "Name: 288, dtype: object\n"
     ]
    },
    {
     "name": "stdin",
     "output_type": "stream",
     "text": [
      "Enter the correct Standard American English sentence:  Soulja Boy, my friend, I went so hard to give the sun to more than just the USA. Ha, what? Yes, the world.\n"
     ]
    }
   ],
   "source": [
    "# Usage\n",
    "new_sentence = manual_input_sae(288)"
   ]
  },
  {
   "cell_type": "code",
   "execution_count": 33,
   "id": "471ef9be-eb43-4b70-8327-cf35604c57e3",
   "metadata": {},
   "outputs": [],
   "source": [
    "def process_single_sentence(sentence):\n",
    "    try:\n",
    "        result = runnable.invoke({\"sentence\": sentence})\n",
    "        return result.aae_english\n",
    "    except Exception as e:\n",
    "        print(f\"Error processing sentence: {str(e)}\")\n",
    "        return None"
   ]
  },
  {
   "cell_type": "code",
   "execution_count": 41,
   "id": "cc0b906e-44de-4d43-812e-fe6e1aa07a0c",
   "metadata": {},
   "outputs": [
    {
     "name": "stdout",
     "output_type": "stream",
     "text": [
      "sae: Soulja Boy, my friend, I went so hard to give the sun to more than just the USA. Ha, what? Yes, the world.\n",
      "aae: Soulja Boy, my friend, I went so hard to give the sun to more than just the USA. Ha, what? Yes, the world.\n"
     ]
    }
   ],
   "source": [
    "aae_sentence = process_single_sentence(new_sentence)\n",
    "print(f\"sae: {complete_df.iloc[288].standard_american_english}\\naae: {aae_sentence}\")"
   ]
  },
  {
   "cell_type": "code",
   "execution_count": 64,
   "id": "19a822e8-1048-404b-a7d5-8f882bbbbdaf",
   "metadata": {},
   "outputs": [
    {
     "name": "stdout",
     "output_type": "stream",
     "text": [
      "Current entry at index 1927:\n",
      "index                                                                     1927\n",
      "standard_american_english    How did you make the strawberries come up on t...\n",
      "aae_from_sae                                                         <UNKNOWN>\n",
      "Name: 1927, dtype: object\n"
     ]
    },
    {
     "name": "stdin",
     "output_type": "stream",
     "text": [
      "Enter the correct African American English sentence:  How did you make the strawberries come up on the bananas? Is that an app or something?\n"
     ]
    }
   ],
   "source": [
    "new_sentence = manual_input_aae(1927)"
   ]
  },
  {
   "cell_type": "code",
   "execution_count": 61,
   "id": "937efcb8-66a3-47f0-95b5-3e68b4079340",
   "metadata": {},
   "outputs": [
    {
     "data": {
      "text/plain": [
       "'How did you make the strawberries come up on the bananas? Is that an app or something?'"
      ]
     },
     "execution_count": 61,
     "metadata": {},
     "output_type": "execute_result"
    }
   ],
   "source": [
    "complete_df.iloc[1927].standard_american_english"
   ]
  },
  {
   "cell_type": "code",
   "execution_count": 65,
   "id": "3110bb86-be88-4e0d-af28-49a1bf44320e",
   "metadata": {},
   "outputs": [
    {
     "data": {
      "text/plain": [
       "Series([], Name: index, dtype: int64)"
      ]
     },
     "execution_count": 65,
     "metadata": {},
     "output_type": "execute_result"
    }
   ],
   "source": [
    "failed_df = complete_df[(complete_df['aae_from_sae'].isna()) | (complete_df['aae_from_sae'] == '<UNKNOWN>')].copy()\n",
    "failed_df['index']"
   ]
  },
  {
   "cell_type": "markdown",
   "id": "02d884a6-2c76-44dc-83ca-cf5492233b45",
   "metadata": {},
   "source": [
    "_______________"
   ]
  },
  {
   "cell_type": "code",
   "execution_count": 66,
   "id": "d8d5ed95-88fd-4519-88fb-33be7ea1b759",
   "metadata": {},
   "outputs": [
    {
     "name": "stdout",
     "output_type": "stream",
     "text": [
      "Updated complete labeled dataset saved to ./labeled/complete-2000-with-anthropic_Haiku-AAE_from_SAE_updated.csv\n",
      "Total processed sentences: 2000\n",
      "Successfully labeled sentences: 2000\n",
      "Failed sentences: 0\n",
      "'<Unknown>' sentences remaining: 0\n"
     ]
    }
   ],
   "source": [
    "# #Identify failed sentences (NaN or '<Unknown>')\n",
    "# failed_df = complete_df[(complete_df['aae_from_sae'].isna()) | (complete_df['aae_from_sae'] == '<Unknown>')].copy()\n",
    "\n",
    "# # Process failed sentences\n",
    "# for index, row in tqdm(failed_df.iterrows(), total=len(failed_df)):\n",
    "#     try:\n",
    "#         result = runnable.invoke({\"sentence\": row['standard_american_english']})\n",
    "#         failed_df.at[index, 'aae_from_sae'] = result.aae_english\n",
    "#     except Exception as e:\n",
    "#         print(f\"Error processing sentence at index {index}: {str(e)}\")\n",
    "\n",
    "# # Update the complete dataset with newly processed sentences\n",
    "# complete_df.update(failed_df)\n",
    "\n",
    "# Save the updated complete dataset\n",
    "output_path = './labeled/complete-2000-with-anthropic_Haiku-AAE_from_SAE_updated.csv'\n",
    "complete_df.to_csv(output_path, index=False)\n",
    "\n",
    "print(f\"Updated complete labeled dataset saved to {output_path}\")\n",
    "print(f\"Total processed sentences: {len(complete_df)}\")\n",
    "print(f\"Successfully labeled sentences: {complete_df['aae_from_sae'].notna().sum()}\")\n",
    "print(f\"Failed sentences: {complete_df['aae_from_sae'].isna().sum()}\")\n",
    "print(f\"'<Unknown>' sentences remaining: {(complete_df['aae_from_sae'] == '<Unknown>').sum()}\")"
   ]
  },
  {
   "cell_type": "code",
   "execution_count": null,
   "id": "2b8bd5e7-6cd6-4997-a89b-1e0a7eb41414",
   "metadata": {},
   "outputs": [],
   "source": []
  }
 ],
 "metadata": {
  "kernelspec": {
   "display_name": "Python 3 (ipykernel)",
   "language": "python",
   "name": "python3"
  },
  "language_info": {
   "codemirror_mode": {
    "name": "ipython",
    "version": 3
   },
   "file_extension": ".py",
   "mimetype": "text/x-python",
   "name": "python",
   "nbconvert_exporter": "python",
   "pygments_lexer": "ipython3",
   "version": "3.9.18"
  }
 },
 "nbformat": 4,
 "nbformat_minor": 5
}
